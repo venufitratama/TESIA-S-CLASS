{
  "nbformat": 4,
  "nbformat_minor": 0,
  "metadata": {
    "colab": {
      "provenance": []
    },
    "kernelspec": {
      "name": "python3",
      "display_name": "Python 3"
    },
    "language_info": {
      "name": "python"
    }
  },
  "cells": [
    {
      "cell_type": "code",
      "source": [
        "pip install sastrawi"
      ],
      "metadata": {
        "colab": {
          "base_uri": "https://localhost:8080/"
        },
        "id": "kklkNuCNQDke",
        "outputId": "b9d6f90e-c16e-4ef0-d28c-c2b37d192abd"
      },
      "execution_count": 1,
      "outputs": [
        {
          "output_type": "stream",
          "name": "stdout",
          "text": [
            "Looking in indexes: https://pypi.org/simple, https://us-python.pkg.dev/colab-wheels/public/simple/\n",
            "Requirement already satisfied: sastrawi in /usr/local/lib/python3.8/dist-packages (1.0.1)\n"
          ]
        }
      ]
    },
    {
      "cell_type": "code",
      "source": [
        "!pip install transformers"
      ],
      "metadata": {
        "colab": {
          "base_uri": "https://localhost:8080/"
        },
        "id": "8a504XiPQE9i",
        "outputId": "451291a1-f2de-482e-c811-ac4be53b66a7"
      },
      "execution_count": 2,
      "outputs": [
        {
          "output_type": "stream",
          "name": "stdout",
          "text": [
            "Looking in indexes: https://pypi.org/simple, https://us-python.pkg.dev/colab-wheels/public/simple/\n",
            "Requirement already satisfied: transformers in /usr/local/lib/python3.8/dist-packages (4.25.1)\n",
            "Requirement already satisfied: pyyaml>=5.1 in /usr/local/lib/python3.8/dist-packages (from transformers) (6.0)\n",
            "Requirement already satisfied: tqdm>=4.27 in /usr/local/lib/python3.8/dist-packages (from transformers) (4.64.1)\n",
            "Requirement already satisfied: regex!=2019.12.17 in /usr/local/lib/python3.8/dist-packages (from transformers) (2022.6.2)\n",
            "Requirement already satisfied: numpy>=1.17 in /usr/local/lib/python3.8/dist-packages (from transformers) (1.21.6)\n",
            "Requirement already satisfied: packaging>=20.0 in /usr/local/lib/python3.8/dist-packages (from transformers) (21.3)\n",
            "Requirement already satisfied: requests in /usr/local/lib/python3.8/dist-packages (from transformers) (2.23.0)\n",
            "Requirement already satisfied: huggingface-hub<1.0,>=0.10.0 in /usr/local/lib/python3.8/dist-packages (from transformers) (0.11.1)\n",
            "Requirement already satisfied: filelock in /usr/local/lib/python3.8/dist-packages (from transformers) (3.8.2)\n",
            "Requirement already satisfied: tokenizers!=0.11.3,<0.14,>=0.11.1 in /usr/local/lib/python3.8/dist-packages (from transformers) (0.13.2)\n",
            "Requirement already satisfied: typing-extensions>=3.7.4.3 in /usr/local/lib/python3.8/dist-packages (from huggingface-hub<1.0,>=0.10.0->transformers) (4.4.0)\n",
            "Requirement already satisfied: pyparsing!=3.0.5,>=2.0.2 in /usr/local/lib/python3.8/dist-packages (from packaging>=20.0->transformers) (3.0.9)\n",
            "Requirement already satisfied: certifi>=2017.4.17 in /usr/local/lib/python3.8/dist-packages (from requests->transformers) (2022.12.7)\n",
            "Requirement already satisfied: idna<3,>=2.5 in /usr/local/lib/python3.8/dist-packages (from requests->transformers) (2.10)\n",
            "Requirement already satisfied: urllib3!=1.25.0,!=1.25.1,<1.26,>=1.21.1 in /usr/local/lib/python3.8/dist-packages (from requests->transformers) (1.24.3)\n",
            "Requirement already satisfied: chardet<4,>=3.0.2 in /usr/local/lib/python3.8/dist-packages (from requests->transformers) (3.0.4)\n"
          ]
        }
      ]
    },
    {
      "cell_type": "code",
      "execution_count": 96,
      "metadata": {
        "colab": {
          "base_uri": "https://localhost:8080/"
        },
        "id": "Hy2qjmHsP0y-",
        "outputId": "a3c22ea5-28ab-4dff-ff75-435db62c5043"
      },
      "outputs": [
        {
          "output_type": "stream",
          "name": "stderr",
          "text": [
            "[nltk_data] Downloading package stopwords to /root/nltk_data...\n",
            "[nltk_data]   Package stopwords is already up-to-date!\n",
            "[nltk_data] Downloading package punkt to /root/nltk_data...\n",
            "[nltk_data]   Package punkt is already up-to-date!\n",
            "[nltk_data] Downloading package wordnet to /root/nltk_data...\n",
            "[nltk_data]   Package wordnet is already up-to-date!\n",
            "[nltk_data] Downloading package omw-1.4 to /root/nltk_data...\n",
            "[nltk_data]   Package omw-1.4 is already up-to-date!\n"
          ]
        }
      ],
      "source": [
        "# Import libraries\n",
        "import sys\n",
        "import nltk\n",
        "import re\n",
        "import tensorflow as tf\n",
        "import pandas as pd\n",
        "import matplotlib.pyplot as plt\n",
        "import seaborn as sns\n",
        "import numpy as np\n",
        "import tensorflow as tf\n",
        "import joblib\n",
        "from sklearn.metrics import classification_report \n",
        "from nltk.corpus import stopwords\n",
        "from nltk.tokenize import word_tokenize\n",
        "from sklearn.model_selection import train_test_split\n",
        "from sklearn.feature_extraction.text import TfidfVectorizer\n",
        "from tensorflow.keras.layers import TextVectorization, Embedding, Dense, GlobalAveragePooling1D, Input, LSTM, GRU, Dropout, Conv1D, MaxPooling1D, GlobalMaxPooling1D, BatchNormalization\n",
        "from tensorflow.keras.models import Model, Sequential, load_model\n",
        "from Sastrawi.Stemmer.StemmerFactory import StemmerFactory\n",
        "from tensorflow.keras.utils import to_categorical\n",
        "from imblearn.over_sampling import SMOTENC, SMOTE\n",
        "\n",
        "tf.config.experimental_run_functions_eagerly(True)\n",
        "\n",
        "# Download package dari nltk utk keperluan data preprocessing\n",
        "nltk.download('stopwords')\n",
        "nltk.download('punkt')\n",
        "nltk.download('wordnet')\n",
        "nltk.download('omw-1.4')\n",
        "\n",
        "# Set random seed supaya hasil simulasi tdk berubah-ubah\n",
        "np.random.seed(50)\n",
        "tf.random.set_seed(50)"
      ]
    },
    {
      "cell_type": "code",
      "source": [
        "df = pd.read_excel('Dataset NLP Final edit.xlsx')"
      ],
      "metadata": {
        "id": "ZlcHXCphQbWn"
      },
      "execution_count": 98,
      "outputs": []
    },
    {
      "cell_type": "code",
      "source": [
        "# Set lebar kolom menjadi 200\n",
        "pd.set_option('display.max_colwidth',200)"
      ],
      "metadata": {
        "id": "IcgmVzBwQctU"
      },
      "execution_count": 99,
      "outputs": []
    },
    {
      "cell_type": "code",
      "source": [
        "df['Label'].value_counts()"
      ],
      "metadata": {
        "colab": {
          "base_uri": "https://localhost:8080/"
        },
        "id": "c6INKM-bCwgA",
        "outputId": "3de22cf5-fb78-4ffd-a324-4943c5de59bc"
      },
      "execution_count": 100,
      "outputs": [
        {
          "output_type": "execute_result",
          "data": {
            "text/plain": [
              "neutral     429\n",
              "positive    415\n",
              "negative    126\n",
              "Name: Label, dtype: int64"
            ]
          },
          "metadata": {},
          "execution_count": 100
        }
      ]
    },
    {
      "cell_type": "code",
      "source": [
        "df.shape"
      ],
      "metadata": {
        "colab": {
          "base_uri": "https://localhost:8080/"
        },
        "id": "e7D3GJbiC_12",
        "outputId": "591cf27e-82d7-4023-8fa0-711fe4239001"
      },
      "execution_count": 101,
      "outputs": [
        {
          "output_type": "execute_result",
          "data": {
            "text/plain": [
              "(970, 6)"
            ]
          },
          "metadata": {},
          "execution_count": 101
        }
      ]
    },
    {
      "cell_type": "code",
      "source": [
        "df.head()"
      ],
      "metadata": {
        "colab": {
          "base_uri": "https://localhost:8080/",
          "height": 478
        },
        "id": "VE5LdMQfQeS4",
        "outputId": "21210a20-18e6-4578-e699-53f00e670ce1"
      },
      "execution_count": 102,
      "outputs": [
        {
          "output_type": "execute_result",
          "data": {
            "text/plain": [
              "           User         Date Created  Number of Likes      Source of Tweet  \\\n",
              "0      dodicccc  2018-07-01 00:00:00              0.0  Twitter for Android   \n",
              "1   hedgeoption  2018-05-23 00:00:00              0.0   Twitter for iPhone   \n",
              "2   ftwijanarko  2018-03-23 00:00:00              0.0  Twitter for Android   \n",
              "3  ParulianRoby  2018-03-15 00:00:00              0.0  Twitter for Android   \n",
              "4  VenBanksInfo  2018-01-19 00:00:00              0.0   Twitter for iPhone   \n",
              "\n",
              "                                                                                                                                                                                         Tweet  \\\n",
              "0                                                                                                   Jumat kemarin emiten emiten big caps (BBRI, BMRI, BBNI, BBCA, dll) yang bawa IHSG rebound.   \n",
              "1                                                                                               Big bank setelah turun gunung hr ini naik ke lembah #bbri #bbni #ihsg #saham #stockmarket #idx   \n",
              "2                                                                                                                                                         @madedidu BBNI juga loh... Hiks.. :(   \n",
              "3  #IDX #BEI #BBNI\\n\\nAndalan online, GoFood.\\n.\\nGelontorkan KUR Senilai 1,5 Triliun Rupiah untuk Merchant Go-Food, BNI Resmikan Kemitraan Strategis dengan Go-Pay.\\n https://t.co/gF8X6zs6sC   \n",
              "4                                             Investment news;Finance sector IDR1,149.04 B(-0.24%)\\nBBRI:IDR3,620(0.00%)\\nBMRI:IDR8,075(-0.62%)\\nBBNI:IDR9,425(-0.79%)\\nBBCA:IDR22,450(-0.55%)   \n",
              "\n",
              "      Label  \n",
              "0  positive  \n",
              "1  negative  \n",
              "2  negative  \n",
              "3  positive  \n",
              "4   neutral  "
            ],
            "text/html": [
              "\n",
              "  <div id=\"df-ce24c851-3dd0-44e7-9531-213514c49e71\">\n",
              "    <div class=\"colab-df-container\">\n",
              "      <div>\n",
              "<style scoped>\n",
              "    .dataframe tbody tr th:only-of-type {\n",
              "        vertical-align: middle;\n",
              "    }\n",
              "\n",
              "    .dataframe tbody tr th {\n",
              "        vertical-align: top;\n",
              "    }\n",
              "\n",
              "    .dataframe thead th {\n",
              "        text-align: right;\n",
              "    }\n",
              "</style>\n",
              "<table border=\"1\" class=\"dataframe\">\n",
              "  <thead>\n",
              "    <tr style=\"text-align: right;\">\n",
              "      <th></th>\n",
              "      <th>User</th>\n",
              "      <th>Date Created</th>\n",
              "      <th>Number of Likes</th>\n",
              "      <th>Source of Tweet</th>\n",
              "      <th>Tweet</th>\n",
              "      <th>Label</th>\n",
              "    </tr>\n",
              "  </thead>\n",
              "  <tbody>\n",
              "    <tr>\n",
              "      <th>0</th>\n",
              "      <td>dodicccc</td>\n",
              "      <td>2018-07-01 00:00:00</td>\n",
              "      <td>0.0</td>\n",
              "      <td>Twitter for Android</td>\n",
              "      <td>Jumat kemarin emiten emiten big caps (BBRI, BMRI, BBNI, BBCA, dll) yang bawa IHSG rebound.</td>\n",
              "      <td>positive</td>\n",
              "    </tr>\n",
              "    <tr>\n",
              "      <th>1</th>\n",
              "      <td>hedgeoption</td>\n",
              "      <td>2018-05-23 00:00:00</td>\n",
              "      <td>0.0</td>\n",
              "      <td>Twitter for iPhone</td>\n",
              "      <td>Big bank setelah turun gunung hr ini naik ke lembah #bbri #bbni #ihsg #saham #stockmarket #idx</td>\n",
              "      <td>negative</td>\n",
              "    </tr>\n",
              "    <tr>\n",
              "      <th>2</th>\n",
              "      <td>ftwijanarko</td>\n",
              "      <td>2018-03-23 00:00:00</td>\n",
              "      <td>0.0</td>\n",
              "      <td>Twitter for Android</td>\n",
              "      <td>@madedidu BBNI juga loh... Hiks.. :(</td>\n",
              "      <td>negative</td>\n",
              "    </tr>\n",
              "    <tr>\n",
              "      <th>3</th>\n",
              "      <td>ParulianRoby</td>\n",
              "      <td>2018-03-15 00:00:00</td>\n",
              "      <td>0.0</td>\n",
              "      <td>Twitter for Android</td>\n",
              "      <td>#IDX #BEI #BBNI\\n\\nAndalan online, GoFood.\\n.\\nGelontorkan KUR Senilai 1,5 Triliun Rupiah untuk Merchant Go-Food, BNI Resmikan Kemitraan Strategis dengan Go-Pay.\\n https://t.co/gF8X6zs6sC</td>\n",
              "      <td>positive</td>\n",
              "    </tr>\n",
              "    <tr>\n",
              "      <th>4</th>\n",
              "      <td>VenBanksInfo</td>\n",
              "      <td>2018-01-19 00:00:00</td>\n",
              "      <td>0.0</td>\n",
              "      <td>Twitter for iPhone</td>\n",
              "      <td>Investment news;Finance sector IDR1,149.04 B(-0.24%)\\nBBRI:IDR3,620(0.00%)\\nBMRI:IDR8,075(-0.62%)\\nBBNI:IDR9,425(-0.79%)\\nBBCA:IDR22,450(-0.55%)</td>\n",
              "      <td>neutral</td>\n",
              "    </tr>\n",
              "  </tbody>\n",
              "</table>\n",
              "</div>\n",
              "      <button class=\"colab-df-convert\" onclick=\"convertToInteractive('df-ce24c851-3dd0-44e7-9531-213514c49e71')\"\n",
              "              title=\"Convert this dataframe to an interactive table.\"\n",
              "              style=\"display:none;\">\n",
              "        \n",
              "  <svg xmlns=\"http://www.w3.org/2000/svg\" height=\"24px\"viewBox=\"0 0 24 24\"\n",
              "       width=\"24px\">\n",
              "    <path d=\"M0 0h24v24H0V0z\" fill=\"none\"/>\n",
              "    <path d=\"M18.56 5.44l.94 2.06.94-2.06 2.06-.94-2.06-.94-.94-2.06-.94 2.06-2.06.94zm-11 1L8.5 8.5l.94-2.06 2.06-.94-2.06-.94L8.5 2.5l-.94 2.06-2.06.94zm10 10l.94 2.06.94-2.06 2.06-.94-2.06-.94-.94-2.06-.94 2.06-2.06.94z\"/><path d=\"M17.41 7.96l-1.37-1.37c-.4-.4-.92-.59-1.43-.59-.52 0-1.04.2-1.43.59L10.3 9.45l-7.72 7.72c-.78.78-.78 2.05 0 2.83L4 21.41c.39.39.9.59 1.41.59.51 0 1.02-.2 1.41-.59l7.78-7.78 2.81-2.81c.8-.78.8-2.07 0-2.86zM5.41 20L4 18.59l7.72-7.72 1.47 1.35L5.41 20z\"/>\n",
              "  </svg>\n",
              "      </button>\n",
              "      \n",
              "  <style>\n",
              "    .colab-df-container {\n",
              "      display:flex;\n",
              "      flex-wrap:wrap;\n",
              "      gap: 12px;\n",
              "    }\n",
              "\n",
              "    .colab-df-convert {\n",
              "      background-color: #E8F0FE;\n",
              "      border: none;\n",
              "      border-radius: 50%;\n",
              "      cursor: pointer;\n",
              "      display: none;\n",
              "      fill: #1967D2;\n",
              "      height: 32px;\n",
              "      padding: 0 0 0 0;\n",
              "      width: 32px;\n",
              "    }\n",
              "\n",
              "    .colab-df-convert:hover {\n",
              "      background-color: #E2EBFA;\n",
              "      box-shadow: 0px 1px 2px rgba(60, 64, 67, 0.3), 0px 1px 3px 1px rgba(60, 64, 67, 0.15);\n",
              "      fill: #174EA6;\n",
              "    }\n",
              "\n",
              "    [theme=dark] .colab-df-convert {\n",
              "      background-color: #3B4455;\n",
              "      fill: #D2E3FC;\n",
              "    }\n",
              "\n",
              "    [theme=dark] .colab-df-convert:hover {\n",
              "      background-color: #434B5C;\n",
              "      box-shadow: 0px 1px 3px 1px rgba(0, 0, 0, 0.15);\n",
              "      filter: drop-shadow(0px 1px 2px rgba(0, 0, 0, 0.3));\n",
              "      fill: #FFFFFF;\n",
              "    }\n",
              "  </style>\n",
              "\n",
              "      <script>\n",
              "        const buttonEl =\n",
              "          document.querySelector('#df-ce24c851-3dd0-44e7-9531-213514c49e71 button.colab-df-convert');\n",
              "        buttonEl.style.display =\n",
              "          google.colab.kernel.accessAllowed ? 'block' : 'none';\n",
              "\n",
              "        async function convertToInteractive(key) {\n",
              "          const element = document.querySelector('#df-ce24c851-3dd0-44e7-9531-213514c49e71');\n",
              "          const dataTable =\n",
              "            await google.colab.kernel.invokeFunction('convertToInteractive',\n",
              "                                                     [key], {});\n",
              "          if (!dataTable) return;\n",
              "\n",
              "          const docLinkHtml = 'Like what you see? Visit the ' +\n",
              "            '<a target=\"_blank\" href=https://colab.research.google.com/notebooks/data_table.ipynb>data table notebook</a>'\n",
              "            + ' to learn more about interactive tables.';\n",
              "          element.innerHTML = '';\n",
              "          dataTable['output_type'] = 'display_data';\n",
              "          await google.colab.output.renderOutput(dataTable, element);\n",
              "          const docLink = document.createElement('div');\n",
              "          docLink.innerHTML = docLinkHtml;\n",
              "          element.appendChild(docLink);\n",
              "        }\n",
              "      </script>\n",
              "    </div>\n",
              "  </div>\n",
              "  "
            ]
          },
          "metadata": {},
          "execution_count": 102
        }
      ]
    },
    {
      "cell_type": "code",
      "source": [
        "df.shape"
      ],
      "metadata": {
        "colab": {
          "base_uri": "https://localhost:8080/"
        },
        "id": "2vOXhHHPWbld",
        "outputId": "49780ca6-ab74-4b94-e1d4-85e64cae2154"
      },
      "execution_count": 103,
      "outputs": [
        {
          "output_type": "execute_result",
          "data": {
            "text/plain": [
              "(970, 6)"
            ]
          },
          "metadata": {},
          "execution_count": 103
        }
      ]
    },
    {
      "cell_type": "code",
      "source": [
        "df['Label'] = df['Label'].replace(['positive', 'neutral', 'negative'], [0,1,2])"
      ],
      "metadata": {
        "id": "UjftxY5HXkH-"
      },
      "execution_count": 104,
      "outputs": []
    },
    {
      "cell_type": "code",
      "source": [
        "# Mendefinisikan stopwords bahasa Indonesia\n",
        "idn = list(set(stopwords.words('indonesian')))"
      ],
      "metadata": {
        "id": "l9istXhAQo1H"
      },
      "execution_count": 105,
      "outputs": []
    },
    {
      "cell_type": "code",
      "source": [
        "print(len(idn), \"stopwords bahasa indonesia:\", idn)"
      ],
      "metadata": {
        "colab": {
          "base_uri": "https://localhost:8080/"
        },
        "id": "cNSsJxVUQqQv",
        "outputId": "4939dad7-d81a-47b6-aecf-fab2db00a89e"
      },
      "execution_count": 106,
      "outputs": [
        {
          "output_type": "stream",
          "name": "stdout",
          "text": [
            "757 stopwords bahasa indonesia: ['sekecil', 'berjumlah', 'ialah', 'disebutkannya', 'terdapat', 'semisal', 'pun', 'diinginkan', 'terdahulu', 'dikatakan', 'pukul', 'masih', 'memang', 'lain', 'jumlah', 'besar', 'keterlaluan', 'persoalan', 'gunakan', 'dipergunakan', 'setiba', 'bersiap', 'sebenarnya', 'dijelaskan', 'sendirian', 'digunakan', 'dikira', 'diakhirinya', 'menunjuk', 'sela', 'jelaskan', 'sampai', 'setiap', 'ingin', 'tertuju', 'ingat', 'ia', 'tanya', 'pertama', 'dituturkannya', 'memperbuat', 'sekiranya', 'berapa', 'berkali-kali', 'bolehlah', 'keduanya', 'tepat', 'sampaikan', 'depan', 'mendapat', 'sangatlah', 'sebaik', 'pada', 'tersebut', 'jawaban', 'enggaknya', 'rupanya', 'tapi', 'dibuatnya', 'sudahlah', 'siapa', 'tiga', 'beginikah', 'benarkah', 'jikalau', 'berakhirlah', 'suatu', 'semuanya', 'asalkan', 'kedua', 'mampu', 'seringnya', 'punya', 'bukanlah', 'kemungkinan', 'melainkan', 'keinginan', 'terutama', 'melihatnya', 'kini', 'ke', 'kebetulan', 'memintakan', 'pak', 'ungkap', 'pentingnya', 'keluar', 'belakang', 'saatnya', 'kamilah', 'kelihatan', 'malah', 'misalnya', 'terhadapnya', 'ditandaskan', 'demi', 'pertama-tama', 'penting', 'mulailah', 'bagaimana', 'seolah-olah', 'sebelum', 'diperlukan', 'diingatkan', 'soalnya', 'bung', 'semata-mata', 'seterusnya', 'agar', 'terkira', 'ujarnya', 'menuju', 'hanyalah', 'bermula', 'tadinya', 'dalam', 'selain', 'seluruhnya', 'menginginkan', 'entah', 'mempertanyakan', 'menandaskan', 'justru', 'sekarang', 'sedangkan', 'menjawab', 'ditunjuk', 'pertanyakan', 'pernah', 'kenapa', 'setinggi', 'bersama', 'inilah', 'bertutur', 'seperti', 'dijawab', 'juga', 'kinilah', 'kira', 'sempat', 'tutur', 'setempat', 'kurang', 'dimaksud', 'berturut-turut', 'manalagi', 'dituturkan', 'tentulah', 'sepantasnyalah', 'sebaiknya', 'kan', 'diberikan', 'dikarenakan', 'minta', 'nah', 'semasa', 'sekitar', 'saling', 'melalui', 'kelamaan', 'tambah', 'lanjut', 'mempersiapkan', 'saya', 'tampak', 'sepertinya', 'semasih', 'sama-sama', 'adalah', 'kalaulah', 'bermaksud', 'masalah', 'sebutlah', 'diibaratkan', 'kelihatannya', 'olehnya', 'bersiap-siap', 'semampunya', 'anda', 'boleh', 'sana', 'bahwa', 'balik', 'mulanya', 'mengakhiri', 'antara', 'diperlihatkan', 'melakukan', 'awalnya', 'ujar', 'adapun', 'berlangsung', 'ditambahkan', 'sekaligus', 'ingat-ingat', 'berlebihan', 'tanyakan', 'baru', 'masalahnya', 'mendatangi', 'saja', 'tinggi', 'menegaskan', 'jelasnya', 'tadi', 'seorang', 'berturut', 'terjadinya', 'tambahnya', 'tentunya', 'menyebutkan', 'memerlukan', 'menanti', 'pantas', 'memastikan', 'mengetahui', 'makanya', 'sambil', 'dua', 'ucapnya', 'sebaik-baiknya', 'bagai', 'diucapkan', 'akan', 'bukankah', 'jawabnya', 'merupakan', 'sebabnya', 'tertentu', 'sedikitnya', 'tengah', 'wah', 'sebanyak', 'di', 'mau', 'kepada', 'sebagaimana', 'diperbuat', 'apabila', 'padanya', 'mempunyai', 'inikah', 'caranya', 'dilakukan', 'memisalkan', 'mengibaratkan', 'lebih', 'dipastikan', 'kiranya', 'dapat', 'berakhir', 'dong', 'kapanpun', 'teringat', 'tersebutlah', 'katakan', 'tegas', 'demikian', 'satu', 'kesampaian', 'akhirnya', 'dijelaskannya', 'dekat', 'diperlukannya', 'dimulainya', 'jelas', 'menggunakan', 'cukup', 'bila', 'segera', 'kasus', 'ditunjukkan', 'sebab', 'diucapkannya', 'khususnya', 'menjadi', 'menanyai', 'mereka', 'sekalian', 'sekurang-kurangnya', 'yakni', 'beginian', 'jadinya', 'cuma', 'kepadanya', 'datang', 'tentu', 'tegasnya', 'enggak', 'terlalu', 'bersama-sama', 'sampai-sampai', 'masing', 'seluruh', 'itukah', 'toh', 'amat', 'sekalipun', 'bisakah', 'memperlihatkan', 'bagi', 'memberikan', 'selamanya', 'kok', 'telah', 'termasuk', 'mengungkapkan', 'rasa', 'andalah', 'dimulai', 'daripada', 'teringat-ingat', 'kamu', 'menurut', 'seseorang', 'sebagainya', 'dimaksudnya', 'seusai', 'siapapun', 'hendak', 'kamulah', 'berlainan', 'ibaratnya', 'hanya', 'sedemikian', 'seingat', 'dahulu', 'sejumlah', 'masa', 'seolah', 'jangankan', 'segala', 'dikerjakan', 'sebut', 'empat', 'kalau', 'dengan', 'dimaksudkannya', 'menyangkut', 'dia', 'kala', 'serupa', 'diberi', 'mengerjakan', 'kata', 'ditunjuki', 'kami', 'segalanya', 'sekurangnya', 'dan', 'ternyata', 'pertanyaan', 'begini', 'siap', 'paling', 'agaknya', 'diminta', 'disinilah', 'betulkah', 'kira-kira', 'berikut', 'setelah', 'se', 'terasa', 'tiap', 'jelaslah', 'benar', 'tandasnya', 'berikan', 'buat', 'sebegitu', 'didapat', 'tak', 'berada', 'ditujukan', 'meskipun', 'apa', 'sebutnya', 'atas', 'begitukah', 'apaan', 'bawah', 'per', 'selalu', 'tampaknya', 'jawab', 'sesampai', 'tersampaikan', 'tuturnya', 'menyampaikan', 'semakin', 'umumnya', 'apalagi', 'bakal', 'memihak', 'sepanjang', 'kemudian', 'menyeluruh', 'keseluruhan', 'belakangan', 'membuat', 'menunjuki', 'berarti', 'tidakkah', 'disampaikan', 'mengapa', 'sesudah', 'secukupnya', 'sehingga', 'tahu', 'memberi', 'ungkapnya', 'menanyakan', 'sewaktu', 'sekitarnya', 'malahan', 'mempersoalkan', 'nyatanya', 'siapakah', 'sejak', 'bilakah', 'akhiri', 'mampukah', 'waktu', 'kapankah', 'kalian', 'lamanya', 'sebetulnya', 'sekadarnya', 'akankah', 'disebut', 'cukupkah', 'berakhirnya', 'semula', 'tahun', 'wahai', 'kembali', 'ibarat', 'melihat', 'ditanyai', 'didatangkan', 'ketika', 'mendatang', 'katanya', 'diri', 'turut', 'diketahuinya', 'bertanya', 'menghendaki', 'walau', 'kalaupun', 'sekali', 'nanti', 'sebagian', 'antar', 'berawal', 'tetapi', 'harus', 'antaranya', 'perlunya', 'dipersoalkan', 'aku', 'ataupun', 'mendapatkan', 'diantara', 'kemungkinannya', 'asal', 'sepihak', 'diantaranya', 'macam', 'menunjuknya', 'setengah', 'menuturkan', 'seharusnya', 'mempergunakan', 'ini', 'tetap', 'sering', 'meminta', 'yang', 'sesuatunya', 'menunjukkan', 'walaupun', 'secara', 'haruslah', 'mana', 'menaiki', 'mengibaratkannya', 'yaitu', 'dialah', 'sendirinya', 'dilalui', 'sama', 'bagaimanakah', 'ataukah', 'kelima', 'ditunjuknya', 'merekalah', 'tiba-tiba', 'berdatangan', 'sesaat', 'janganlah', 'jangan', 'meski', 'hal', 'rata', 'menjelaskan', 'menambahkan', 'mengucapkan', 'biasanya', 'biasa', 'begitu', 'untuk', 'ibu', 'lima', 'baik', 'meyakini', 'diketahui', 'seketika', 'tanyanya', 'selaku', 'sedang', 'menantikan', 'setidak-tidaknya', 'tidaklah', 'bisa', 'sajalah', 'padahal', 'dimungkinkan', 'semampu', 'dulu', 'sementara', 'nantinya', 'ikut', 'tanpa', 'bahkan', 'lah', 'mengenai', 'setibanya', 'soal', 'supaya', 'sudahkah', 'beri', 'usai', 'belum', 'maupun', 'diibaratkannya', 'dari', 'agak', 'menanya', 'namun', 'inginkan', 'tentang', 'semata', 'bertanya-tanya', 'perlu', 'cukuplah', 'lagi', 'terdiri', 'bapak', 'tidak', 'sudah', 'yakin', 'berkeinginan', 'katakanlah', 'terjadi', 'dini', 'disebutkan', 'mengatakan', 'lagian', 'hari', 'semua', 'bahwasanya', 'mengingat', 'dipunyai', 'panjang', 'diakhiri', 'ada', 'menanti-nanti', 'sesudahnya', 'berikutnya', 'sayalah', 'bekerja', 'ditegaskan', 'pasti', 'selama-lamanya', 'sebisanya', 'entahlah', 'terbanyak', 'bolehkah', 'hampir', 'waduh', 'karenanya', 'oleh', 'demikianlah', 'banyak', 'itulah', 'berkehendak', 'saat', 'mendatangkan', 'dimisalkan', 'bermacam', 'tiba', 'menyiapkan', 'akulah', 'hendaklah', 'lainnya', 'manakala', 'umum', 'sejenak', 'guna', 'tunjuk', 'mulai', 'sini', 'meyakinkan', 'para', 'sebaliknya', 'bulan', 'sesekali', 'inginkah', 'pihaknya', 'kecil', 'pastilah', 'memungkinkan', 'beginilah', 'dilihat', 'diperbuatnya', 'mengira', 'tandas', 'misalkan', 'benarlah', 'apatah', 'hendaknya', 'terakhir', 'kapan', 'sekali-kali', 'ucap', 'kita', 'lalu', 'sepantasnya', 'mirip', 'rasanya', 'maka', 'seenaknya', 'sesegera', 'begitupun', 'sebelumnya', 'dimulailah', 'terlebih', 'misal', 'memulai', 'sesama', 'begitulah', 'keseluruhannya', 'bagaimanapun', 'harusnya', 'berkata', 'dirinya', 'jadi', 'bakalan', 'mengatakannya', 'merasa', 'selama', 'wong', 'bagian', 'berapakah', 'itu', 'kitalah', 'masihkah', 'naik', 'sedikit', 'belumlah', 'berujar', 'diingat', 'semacam', 'makin', 'mengucapkannya', 'hingga', 'mula', 'berlalu', 'berkenaan', 'ditunjukkannya', 'sesuatu', 'sinilah', 'terlihat', 'terus', 'cara', 'disini', 'sendiri', 'sebesar', 'berapapun', 'berbagai', 'pihak', 'dibuat', 'perlukah', 'sangat', 'diberikannya', 'amatlah', 'karena', 'bermacam-macam', 'seperlunya', 'ditanyakan', 'apakah', 'jika', 'betul', 'percuma', 'diperkirakan', 'terjadilah', 'dimintai', 'mungkin', 'lama', 'tempat', 'sebegini', 'semisalnya', 'diungkapkan', 'berapalah', 'semaunya', 'adanya', 'lewat', 'masing-masing', 'jauh', 'memperkirakan', 'menyatakan', 'bukannya', 'setidaknya', 'mengingatkan', 'sebagai', 'ditanya', 'berupa', 'pula', 'jadilah', 'beberapa', 'usah', 'awal', 'waktunya', 'dimaksudkan', 'selanjutnya', 'lanjutnya', 'keadaan', 'sekadar', 'sebuah', 'terhadap', 'bukan', 'serta', 'seberapa', 'nyaris', 'atau', 'artinya', 'sejauh', 'luar', 'mungkinkah', 'ibaratkan', 'dikatakannya', 'akhir', 'dipertanyakan', 'bagaikan', 'jumlahnya']\n"
          ]
        }
      ]
    },
    {
      "cell_type": "code",
      "source": [
        "factory = StemmerFactory()\n",
        "stemmer = factory.create_stemmer()"
      ],
      "metadata": {
        "id": "mzn3h1YsQrtv"
      },
      "execution_count": 107,
      "outputs": []
    },
    {
      "cell_type": "code",
      "source": [
        "# Membuat Sebuah Function Agar Dapat Diterapkan pada DataFrame\n",
        "\n",
        "def text_process(text):\n",
        "  # Mengubah Teks ke Lowercase\n",
        "  text = text.lower()\n",
        "  \n",
        "  # Menghilangkan Mention\n",
        "  text = re.sub(\"@[A-Za-z0-9_]+\", \" \", text)\n",
        "  \n",
        "  # Menghilangkan Hashtag\n",
        "  text = re.sub(\"#[A-Za-z0-9_]+\", \" \", text)\n",
        "  \n",
        "  # Menghilangkan \\n\n",
        "  text = re.sub(r\"\\\\n\", \" \",text)\n",
        "  \n",
        "  # Menghilangkan Whitespace\n",
        "  text = text.strip()\n",
        "\n",
        "  # Menghilangkan Link\n",
        "  text = re.sub(r\"http\\S+\", \" \", text)\n",
        "  text = re.sub(r\"www.\\S+\", \" \", text)\n",
        "\n",
        "  # Menghilangkan yang Bukan Huruf seperti Emoji, Simbol Matematika (seperti μ), dst\n",
        "  text = re.sub(\"[^A-Za-z\\s']\", \" \", text)\n",
        "\n",
        "  # Menghilangkan RT\n",
        "  text = re.sub(\"rt\", \" \",text)\n",
        "\n",
        "  # Melakukan Tokenisasi\n",
        "  tokens = word_tokenize(text)\n",
        "\n",
        "  # Menghilangkan Stopwords\n",
        "  text = ' '.join([word for word in tokens if word not in idn])\n",
        "\n",
        "  # Melakukan Stemming\n",
        "  text = ' '.join([stemmer.stem(word) for word in text.split()])\n",
        "  \n",
        "  return text"
      ],
      "metadata": {
        "id": "Jm1y8TiQQulD"
      },
      "execution_count": 108,
      "outputs": []
    },
    {
      "cell_type": "code",
      "source": [
        "df['Tweet_processed'] = df['Tweet'].apply(lambda x: text_process(x))"
      ],
      "metadata": {
        "id": "nO3bJ6wJQwQW"
      },
      "execution_count": 109,
      "outputs": []
    },
    {
      "cell_type": "code",
      "source": [
        "df"
      ],
      "metadata": {
        "colab": {
          "base_uri": "https://localhost:8080/",
          "height": 1000
        },
        "id": "2oKeWhHTDEQA",
        "outputId": "bdb3f206-e6bc-4d79-f398-4c016290888b"
      },
      "execution_count": 110,
      "outputs": [
        {
          "output_type": "execute_result",
          "data": {
            "text/plain": [
              "             User               Date Created  Number of Likes  \\\n",
              "0        dodicccc        2018-07-01 00:00:00              0.0   \n",
              "1     hedgeoption        2018-05-23 00:00:00              0.0   \n",
              "2     ftwijanarko        2018-03-23 00:00:00              0.0   \n",
              "3    ParulianRoby        2018-03-15 00:00:00              0.0   \n",
              "4    VenBanksInfo        2018-01-19 00:00:00              0.0   \n",
              "..            ...                        ...              ...   \n",
              "965           NaN  2021-01-12 02:52:31+00:00              NaN   \n",
              "966           NaN  2021-01-11 03:16:03+00:00              NaN   \n",
              "967           NaN  2021-01-06 04:08:29+00:00              NaN   \n",
              "968           NaN  2021-01-05 08:36:18+00:00              NaN   \n",
              "969           NaN  2021-01-05 04:22:39+00:00              NaN   \n",
              "\n",
              "         Source of Tweet  \\\n",
              "0    Twitter for Android   \n",
              "1     Twitter for iPhone   \n",
              "2    Twitter for Android   \n",
              "3    Twitter for Android   \n",
              "4     Twitter for iPhone   \n",
              "..                   ...   \n",
              "965                  NaN   \n",
              "966                  NaN   \n",
              "967                  NaN   \n",
              "968                  NaN   \n",
              "969                  NaN   \n",
              "\n",
              "                                                                                                                                                                                                       Tweet  \\\n",
              "0                                                                                                                 Jumat kemarin emiten emiten big caps (BBRI, BMRI, BBNI, BBCA, dll) yang bawa IHSG rebound.   \n",
              "1                                                                                                             Big bank setelah turun gunung hr ini naik ke lembah #bbri #bbni #ihsg #saham #stockmarket #idx   \n",
              "2                                                                                                                                                                       @madedidu BBNI juga loh... Hiks.. :(   \n",
              "3                #IDX #BEI #BBNI\\n\\nAndalan online, GoFood.\\n.\\nGelontorkan KUR Senilai 1,5 Triliun Rupiah untuk Merchant Go-Food, BNI Resmikan Kemitraan Strategis dengan Go-Pay.\\n https://t.co/gF8X6zs6sC   \n",
              "4                                                           Investment news;Finance sector IDR1,149.04 B(-0.24%)\\nBBRI:IDR3,620(0.00%)\\nBMRI:IDR8,075(-0.62%)\\nBBNI:IDR9,425(-0.79%)\\nBBCA:IDR22,450(-0.55%)   \n",
              "..                                                                                                                                                                                                       ...   \n",
              "965                                                                                                                                                                            @indopremier BMRI, BBTN, SMRA   \n",
              "966                                                                                                                          #bbtn beli jumat ,jual senin,karena salah beli,untungnya beli panas McD doang..   \n",
              "967                                                                                                                                                                     @TradingDiary2 Ngikut $BBTN juga Pak   \n",
              "968  tertinggal oleh jejak BBCA nih 😉\\n.\\nWatchlist Perbankan versi #cuangasm @cuangasm 🤑\\n1. BBNI\\n2. BMRI\\n3. BBTN\\n.\\nUntuk PGAS masih tahap wajar dan biasa 😊 walaupun tersandung kasus pajak dan aka...   \n",
              "969  Haka BBNI, BMRI, dan BBTN Cuanisme 😍😍, sebentar lagi akan menyusul BBCA nih 🤑🤑\\n.\\n#cuangasm #cuan #cuansampaiklimaks #investasisaham #investasisahampemula #edukasisaham #edukasisahampemula #perba...   \n",
              "\n",
              "     Label  \\\n",
              "0        0   \n",
              "1        2   \n",
              "2        2   \n",
              "3        0   \n",
              "4        1   \n",
              "..     ...   \n",
              "965      1   \n",
              "966      1   \n",
              "967      1   \n",
              "968      2   \n",
              "969      0   \n",
              "\n",
              "                                                                                                                          Tweet_processed  \n",
              "0                                                          jumat kemarin emiten emiten big caps bbri bmri bbni bbca dll bawa ihsg rebound  \n",
              "1                                                                                                         big bank turun gunung hr lembah  \n",
              "2                                                                                                                           bbni loh hiks  \n",
              "3                                  andal online gofood gelontor kur nila triliun rupiah merchant go food bni resmi mitra strategis go pay  \n",
              "4                                                                investment news finance sector idr b bbri idr bmri idr bbni idr bbca idr  \n",
              "..                                                                                                                                    ...  \n",
              "965                                                                                                                        bmri bbtn smra  \n",
              "966                                                                          beli jumat jual senin salah beli untung beli panas mcd doang  \n",
              "967                                                                                                                           ngikut bbtn  \n",
              "968  te inggal jejak bbca nih watchlist perban versi bbni bmri bbtn pgas tahap wajar sandung pajak kena denda menteri runding tenang pgas  \n",
              "969                                                                                  haka bbni bmri bbtn cuanisme sebentar susul bbca nih  \n",
              "\n",
              "[970 rows x 7 columns]"
            ],
            "text/html": [
              "\n",
              "  <div id=\"df-dbf6f7fb-803b-4398-bce1-a8424bb94870\">\n",
              "    <div class=\"colab-df-container\">\n",
              "      <div>\n",
              "<style scoped>\n",
              "    .dataframe tbody tr th:only-of-type {\n",
              "        vertical-align: middle;\n",
              "    }\n",
              "\n",
              "    .dataframe tbody tr th {\n",
              "        vertical-align: top;\n",
              "    }\n",
              "\n",
              "    .dataframe thead th {\n",
              "        text-align: right;\n",
              "    }\n",
              "</style>\n",
              "<table border=\"1\" class=\"dataframe\">\n",
              "  <thead>\n",
              "    <tr style=\"text-align: right;\">\n",
              "      <th></th>\n",
              "      <th>User</th>\n",
              "      <th>Date Created</th>\n",
              "      <th>Number of Likes</th>\n",
              "      <th>Source of Tweet</th>\n",
              "      <th>Tweet</th>\n",
              "      <th>Label</th>\n",
              "      <th>Tweet_processed</th>\n",
              "    </tr>\n",
              "  </thead>\n",
              "  <tbody>\n",
              "    <tr>\n",
              "      <th>0</th>\n",
              "      <td>dodicccc</td>\n",
              "      <td>2018-07-01 00:00:00</td>\n",
              "      <td>0.0</td>\n",
              "      <td>Twitter for Android</td>\n",
              "      <td>Jumat kemarin emiten emiten big caps (BBRI, BMRI, BBNI, BBCA, dll) yang bawa IHSG rebound.</td>\n",
              "      <td>0</td>\n",
              "      <td>jumat kemarin emiten emiten big caps bbri bmri bbni bbca dll bawa ihsg rebound</td>\n",
              "    </tr>\n",
              "    <tr>\n",
              "      <th>1</th>\n",
              "      <td>hedgeoption</td>\n",
              "      <td>2018-05-23 00:00:00</td>\n",
              "      <td>0.0</td>\n",
              "      <td>Twitter for iPhone</td>\n",
              "      <td>Big bank setelah turun gunung hr ini naik ke lembah #bbri #bbni #ihsg #saham #stockmarket #idx</td>\n",
              "      <td>2</td>\n",
              "      <td>big bank turun gunung hr lembah</td>\n",
              "    </tr>\n",
              "    <tr>\n",
              "      <th>2</th>\n",
              "      <td>ftwijanarko</td>\n",
              "      <td>2018-03-23 00:00:00</td>\n",
              "      <td>0.0</td>\n",
              "      <td>Twitter for Android</td>\n",
              "      <td>@madedidu BBNI juga loh... Hiks.. :(</td>\n",
              "      <td>2</td>\n",
              "      <td>bbni loh hiks</td>\n",
              "    </tr>\n",
              "    <tr>\n",
              "      <th>3</th>\n",
              "      <td>ParulianRoby</td>\n",
              "      <td>2018-03-15 00:00:00</td>\n",
              "      <td>0.0</td>\n",
              "      <td>Twitter for Android</td>\n",
              "      <td>#IDX #BEI #BBNI\\n\\nAndalan online, GoFood.\\n.\\nGelontorkan KUR Senilai 1,5 Triliun Rupiah untuk Merchant Go-Food, BNI Resmikan Kemitraan Strategis dengan Go-Pay.\\n https://t.co/gF8X6zs6sC</td>\n",
              "      <td>0</td>\n",
              "      <td>andal online gofood gelontor kur nila triliun rupiah merchant go food bni resmi mitra strategis go pay</td>\n",
              "    </tr>\n",
              "    <tr>\n",
              "      <th>4</th>\n",
              "      <td>VenBanksInfo</td>\n",
              "      <td>2018-01-19 00:00:00</td>\n",
              "      <td>0.0</td>\n",
              "      <td>Twitter for iPhone</td>\n",
              "      <td>Investment news;Finance sector IDR1,149.04 B(-0.24%)\\nBBRI:IDR3,620(0.00%)\\nBMRI:IDR8,075(-0.62%)\\nBBNI:IDR9,425(-0.79%)\\nBBCA:IDR22,450(-0.55%)</td>\n",
              "      <td>1</td>\n",
              "      <td>investment news finance sector idr b bbri idr bmri idr bbni idr bbca idr</td>\n",
              "    </tr>\n",
              "    <tr>\n",
              "      <th>...</th>\n",
              "      <td>...</td>\n",
              "      <td>...</td>\n",
              "      <td>...</td>\n",
              "      <td>...</td>\n",
              "      <td>...</td>\n",
              "      <td>...</td>\n",
              "      <td>...</td>\n",
              "    </tr>\n",
              "    <tr>\n",
              "      <th>965</th>\n",
              "      <td>NaN</td>\n",
              "      <td>2021-01-12 02:52:31+00:00</td>\n",
              "      <td>NaN</td>\n",
              "      <td>NaN</td>\n",
              "      <td>@indopremier BMRI, BBTN, SMRA</td>\n",
              "      <td>1</td>\n",
              "      <td>bmri bbtn smra</td>\n",
              "    </tr>\n",
              "    <tr>\n",
              "      <th>966</th>\n",
              "      <td>NaN</td>\n",
              "      <td>2021-01-11 03:16:03+00:00</td>\n",
              "      <td>NaN</td>\n",
              "      <td>NaN</td>\n",
              "      <td>#bbtn beli jumat ,jual senin,karena salah beli,untungnya beli panas McD doang..</td>\n",
              "      <td>1</td>\n",
              "      <td>beli jumat jual senin salah beli untung beli panas mcd doang</td>\n",
              "    </tr>\n",
              "    <tr>\n",
              "      <th>967</th>\n",
              "      <td>NaN</td>\n",
              "      <td>2021-01-06 04:08:29+00:00</td>\n",
              "      <td>NaN</td>\n",
              "      <td>NaN</td>\n",
              "      <td>@TradingDiary2 Ngikut $BBTN juga Pak</td>\n",
              "      <td>1</td>\n",
              "      <td>ngikut bbtn</td>\n",
              "    </tr>\n",
              "    <tr>\n",
              "      <th>968</th>\n",
              "      <td>NaN</td>\n",
              "      <td>2021-01-05 08:36:18+00:00</td>\n",
              "      <td>NaN</td>\n",
              "      <td>NaN</td>\n",
              "      <td>tertinggal oleh jejak BBCA nih 😉\\n.\\nWatchlist Perbankan versi #cuangasm @cuangasm 🤑\\n1. BBNI\\n2. BMRI\\n3. BBTN\\n.\\nUntuk PGAS masih tahap wajar dan biasa 😊 walaupun tersandung kasus pajak dan aka...</td>\n",
              "      <td>2</td>\n",
              "      <td>te inggal jejak bbca nih watchlist perban versi bbni bmri bbtn pgas tahap wajar sandung pajak kena denda menteri runding tenang pgas</td>\n",
              "    </tr>\n",
              "    <tr>\n",
              "      <th>969</th>\n",
              "      <td>NaN</td>\n",
              "      <td>2021-01-05 04:22:39+00:00</td>\n",
              "      <td>NaN</td>\n",
              "      <td>NaN</td>\n",
              "      <td>Haka BBNI, BMRI, dan BBTN Cuanisme 😍😍, sebentar lagi akan menyusul BBCA nih 🤑🤑\\n.\\n#cuangasm #cuan #cuansampaiklimaks #investasisaham #investasisahampemula #edukasisaham #edukasisahampemula #perba...</td>\n",
              "      <td>0</td>\n",
              "      <td>haka bbni bmri bbtn cuanisme sebentar susul bbca nih</td>\n",
              "    </tr>\n",
              "  </tbody>\n",
              "</table>\n",
              "<p>970 rows × 7 columns</p>\n",
              "</div>\n",
              "      <button class=\"colab-df-convert\" onclick=\"convertToInteractive('df-dbf6f7fb-803b-4398-bce1-a8424bb94870')\"\n",
              "              title=\"Convert this dataframe to an interactive table.\"\n",
              "              style=\"display:none;\">\n",
              "        \n",
              "  <svg xmlns=\"http://www.w3.org/2000/svg\" height=\"24px\"viewBox=\"0 0 24 24\"\n",
              "       width=\"24px\">\n",
              "    <path d=\"M0 0h24v24H0V0z\" fill=\"none\"/>\n",
              "    <path d=\"M18.56 5.44l.94 2.06.94-2.06 2.06-.94-2.06-.94-.94-2.06-.94 2.06-2.06.94zm-11 1L8.5 8.5l.94-2.06 2.06-.94-2.06-.94L8.5 2.5l-.94 2.06-2.06.94zm10 10l.94 2.06.94-2.06 2.06-.94-2.06-.94-.94-2.06-.94 2.06-2.06.94z\"/><path d=\"M17.41 7.96l-1.37-1.37c-.4-.4-.92-.59-1.43-.59-.52 0-1.04.2-1.43.59L10.3 9.45l-7.72 7.72c-.78.78-.78 2.05 0 2.83L4 21.41c.39.39.9.59 1.41.59.51 0 1.02-.2 1.41-.59l7.78-7.78 2.81-2.81c.8-.78.8-2.07 0-2.86zM5.41 20L4 18.59l7.72-7.72 1.47 1.35L5.41 20z\"/>\n",
              "  </svg>\n",
              "      </button>\n",
              "      \n",
              "  <style>\n",
              "    .colab-df-container {\n",
              "      display:flex;\n",
              "      flex-wrap:wrap;\n",
              "      gap: 12px;\n",
              "    }\n",
              "\n",
              "    .colab-df-convert {\n",
              "      background-color: #E8F0FE;\n",
              "      border: none;\n",
              "      border-radius: 50%;\n",
              "      cursor: pointer;\n",
              "      display: none;\n",
              "      fill: #1967D2;\n",
              "      height: 32px;\n",
              "      padding: 0 0 0 0;\n",
              "      width: 32px;\n",
              "    }\n",
              "\n",
              "    .colab-df-convert:hover {\n",
              "      background-color: #E2EBFA;\n",
              "      box-shadow: 0px 1px 2px rgba(60, 64, 67, 0.3), 0px 1px 3px 1px rgba(60, 64, 67, 0.15);\n",
              "      fill: #174EA6;\n",
              "    }\n",
              "\n",
              "    [theme=dark] .colab-df-convert {\n",
              "      background-color: #3B4455;\n",
              "      fill: #D2E3FC;\n",
              "    }\n",
              "\n",
              "    [theme=dark] .colab-df-convert:hover {\n",
              "      background-color: #434B5C;\n",
              "      box-shadow: 0px 1px 3px 1px rgba(0, 0, 0, 0.15);\n",
              "      filter: drop-shadow(0px 1px 2px rgba(0, 0, 0, 0.3));\n",
              "      fill: #FFFFFF;\n",
              "    }\n",
              "  </style>\n",
              "\n",
              "      <script>\n",
              "        const buttonEl =\n",
              "          document.querySelector('#df-dbf6f7fb-803b-4398-bce1-a8424bb94870 button.colab-df-convert');\n",
              "        buttonEl.style.display =\n",
              "          google.colab.kernel.accessAllowed ? 'block' : 'none';\n",
              "\n",
              "        async function convertToInteractive(key) {\n",
              "          const element = document.querySelector('#df-dbf6f7fb-803b-4398-bce1-a8424bb94870');\n",
              "          const dataTable =\n",
              "            await google.colab.kernel.invokeFunction('convertToInteractive',\n",
              "                                                     [key], {});\n",
              "          if (!dataTable) return;\n",
              "\n",
              "          const docLinkHtml = 'Like what you see? Visit the ' +\n",
              "            '<a target=\"_blank\" href=https://colab.research.google.com/notebooks/data_table.ipynb>data table notebook</a>'\n",
              "            + ' to learn more about interactive tables.';\n",
              "          element.innerHTML = '';\n",
              "          dataTable['output_type'] = 'display_data';\n",
              "          await google.colab.output.renderOutput(dataTable, element);\n",
              "          const docLink = document.createElement('div');\n",
              "          docLink.innerHTML = docLinkHtml;\n",
              "          element.appendChild(docLink);\n",
              "        }\n",
              "      </script>\n",
              "    </div>\n",
              "  </div>\n",
              "  "
            ]
          },
          "metadata": {},
          "execution_count": 110
        }
      ]
    },
    {
      "cell_type": "code",
      "source": [
        "X = df['Tweet_processed']\n",
        "y = df['Label']"
      ],
      "metadata": {
        "id": "q0Y1CxejMfJ1"
      },
      "execution_count": 115,
      "outputs": []
    },
    {
      "cell_type": "code",
      "source": [
        "#from imblearn.over_sampling import RandomOverSampler"
      ],
      "metadata": {
        "id": "62tqgcSDMvq5"
      },
      "execution_count": 19,
      "outputs": []
    },
    {
      "cell_type": "code",
      "source": [
        "#oversample = RandomOverSampler(sampling_strategy='minority')\n",
        "# fit and apply the transform\n",
        "#X_over, y_over = oversample.fit_resample(X, y)"
      ],
      "metadata": {
        "id": "3gfbEAQIMoMg"
      },
      "execution_count": 18,
      "outputs": []
    },
    {
      "cell_type": "code",
      "source": [
        "# Lakukan train_test_split\n",
        "X_train, X_test, y_train, y_test = train_test_split(X, \n",
        "                                                    y, \n",
        "                                                    test_size=0.2, # atur test set sebanyak 20%\n",
        "                                                    random_state=101, \n",
        "                                                    stratify=df['Label']) # Lakukan stratify agar komposisi label dlm target sesauai\n",
        "\n",
        "# Tampilkan ukuran train dan test set\n",
        "print('Train Size : ', X_train.shape)\n",
        "print('Test Size  : ', X_test.shape)"
      ],
      "metadata": {
        "colab": {
          "base_uri": "https://localhost:8080/"
        },
        "id": "5QbA5TFTQzwT",
        "outputId": "2b55ca24-8b17-41ba-b73a-e9d36c442bd0"
      },
      "execution_count": 116,
      "outputs": [
        {
          "output_type": "stream",
          "name": "stdout",
          "text": [
            "Train Size :  (776,)\n",
            "Test Size  :  (194,)\n"
          ]
        }
      ]
    },
    {
      "cell_type": "code",
      "source": [
        "# Definisikan TfidVectorizer ke dalam tf_idf_vect\n",
        "tf_idf_vect = TfidfVectorizer()\n",
        "X_train_vec = tf_idf_vect.fit(X_train) \n",
        "X_test_vec = tf_idf_vect.transform(X_test) # Transformasi X_test menggunakan vectorizer"
      ],
      "metadata": {
        "id": "1LKN1wWSRnRr"
      },
      "execution_count": 117,
      "outputs": []
    },
    {
      "cell_type": "code",
      "source": [
        "# Tampilkan vocab\n",
        "tf_idf_vect.get_feature_names_out()"
      ],
      "metadata": {
        "colab": {
          "base_uri": "https://localhost:8080/"
        },
        "id": "2bVnP7m9Rpue",
        "outputId": "bc292801-5669-458a-ca9d-02b05c88586a"
      },
      "execution_count": 118,
      "outputs": [
        {
          "output_type": "execute_result",
          "data": {
            "text/plain": [
              "array(['aaa', 'aali', 'aamin', ..., 'yusuf', 'yuuk', 'zuhur'],\n",
              "      dtype=object)"
            ]
          },
          "metadata": {},
          "execution_count": 118
        }
      ]
    },
    {
      "cell_type": "code",
      "source": [
        "# Mencari Jumlah Vocab dan Panjang Token dalam Satu DOcument\n",
        "\n",
        "jml_vocab = len(tf_idf_vect.vocabulary_.keys())\n",
        "max_sen_len = max([len(i.split(\" \")) for i in X_train])\n",
        "\n",
        "print(\"Jumlah vocab : \", jml_vocab)\n",
        "print(\"Panjang maksimum kalimat : \", max_sen_len, \"kata\")"
      ],
      "metadata": {
        "colab": {
          "base_uri": "https://localhost:8080/"
        },
        "id": "PlIR5eS_RsGi",
        "outputId": "d652b5c8-26db-4966-e31a-9a4013b7ddcb"
      },
      "execution_count": 119,
      "outputs": [
        {
          "output_type": "stream",
          "name": "stdout",
          "text": [
            "Jumlah vocab :  2387\n",
            "Panjang maksimum kalimat :  41 kata\n"
          ]
        }
      ]
    },
    {
      "cell_type": "code",
      "source": [
        "# Lakukan text vectorization\n",
        "\n",
        "text_vectorization = TextVectorization(max_tokens=jml_vocab,\n",
        "                                       standardize=\"lower_and_strip_punctuation\",\n",
        "                                       split=\"whitespace\",\n",
        "                                       ngrams=None,\n",
        "                                       output_mode=\"int\",\n",
        "                                       output_sequence_length=max_sen_len,\n",
        "                                       input_shape=(1,) # Jika ingin menggunakan Sequential API\n",
        "                                       )\n",
        "\n",
        "text_vectorization.adapt(X_train)"
      ],
      "metadata": {
        "colab": {
          "base_uri": "https://localhost:8080/"
        },
        "id": "Ox6YEyZ6RvIC",
        "outputId": "82224e3f-5255-4ad6-f434-4811a17f9f12"
      },
      "execution_count": 120,
      "outputs": [
        {
          "output_type": "stream",
          "name": "stderr",
          "text": [
            "/usr/local/lib/python3.8/dist-packages/tensorflow/python/data/ops/structured_function.py:264: UserWarning: Even though the `tf.config.experimental_run_functions_eagerly` option is set, this option does not apply to tf.data functions. To force eager execution of tf.data functions, please use `tf.data.experimental.enable_debug_mode()`.\n",
            "  warnings.warn(\n"
          ]
        }
      ]
    },
    {
      "cell_type": "code",
      "source": [
        "# Embedding\n",
        "\n",
        "embedding = Embedding(input_dim=jml_vocab,\n",
        "                      output_dim=300,\n",
        "                      input_length=max_sen_len\n",
        "                      )"
      ],
      "metadata": {
        "id": "Zp2l98tDRxN5"
      },
      "execution_count": 121,
      "outputs": []
    },
    {
      "cell_type": "code",
      "source": [
        "y_train_ohe = to_categorical(y_train)\n",
        "y_test_ohe = to_categorical(y_test)"
      ],
      "metadata": {
        "id": "PtxSZolFWM4a"
      },
      "execution_count": 122,
      "outputs": []
    },
    {
      "cell_type": "markdown",
      "source": [
        "# LSTM"
      ],
      "metadata": {
        "id": "8hOKmA_E-FdE"
      }
    },
    {
      "cell_type": "code",
      "source": [
        "# Model definition dengan Menggunakan LSTM\n",
        "model_lstm_2 = Sequential()\n",
        "model_lstm_2.add(text_vectorization)\n",
        "model_lstm_2.add(embedding)\n",
        "model_lstm_2.add(Conv1D(80,8, activation=\"relu\"))\n",
        "model_lstm_2.add(MaxPooling1D(3))\n",
        "model_lstm_2.add(Dropout(0.1))\n",
        "\n",
        "model_lstm_2.add(LSTM(32,return_sequences=True))\n",
        "model_lstm_2.add(Dropout(0.1))\n",
        "#model_lstm_2.add(BatchNormalization())\n",
        "model_lstm_2.add(LSTM(16))\n",
        "model_lstm_2.add(Dropout(0.1))\n",
        "#model_lstm_2.add(BatchNormalization())\n",
        "model_lstm_2.add(Dense(3, activation='softmax'))"
      ],
      "metadata": {
        "id": "RY9C8lCudtQQ"
      },
      "execution_count": 123,
      "outputs": []
    },
    {
      "cell_type": "code",
      "source": [
        "# Compile model\n",
        "model_lstm_2.compile(loss='categorical_crossentropy',optimizer=tf.optimizers.Nadam(learning_rate=0.0001),metrics='accuracy')\n"
      ],
      "metadata": {
        "id": "8BQimG8xR6JP"
      },
      "execution_count": 124,
      "outputs": []
    },
    {
      "cell_type": "code",
      "source": [
        "# Training model\n",
        "#hist_model_lstm_2 = model_lstm_2.fit(X_train,\n",
        "hist_model_lstm_2 = model_lstm_2.fit(X_train,\n",
        "                         y_train_ohe,\n",
        "                         epochs=50,\n",
        "                         validation_data=(X_test, y_test_ohe))"
      ],
      "metadata": {
        "colab": {
          "base_uri": "https://localhost:8080/"
        },
        "id": "iWHJjuuyTopQ",
        "outputId": "3f3fc98f-bc10-461e-f9b1-42df4ba18d6c"
      },
      "execution_count": 126,
      "outputs": [
        {
          "output_type": "stream",
          "name": "stdout",
          "text": [
            "Epoch 1/50\n",
            "25/25 [==============================] - 7s 269ms/step - loss: 1.0496 - accuracy: 0.4510 - val_loss: 1.0146 - val_accuracy: 0.4433\n",
            "Epoch 2/50\n",
            "25/25 [==============================] - 7s 282ms/step - loss: 1.0056 - accuracy: 0.4459 - val_loss: 0.9922 - val_accuracy: 0.4433\n",
            "Epoch 3/50\n",
            "25/25 [==============================] - 6s 241ms/step - loss: 0.9951 - accuracy: 0.4549 - val_loss: 0.9871 - val_accuracy: 0.4536\n",
            "Epoch 4/50\n",
            "25/25 [==============================] - 5s 221ms/step - loss: 0.9899 - accuracy: 0.4433 - val_loss: 0.9850 - val_accuracy: 0.4536\n",
            "Epoch 5/50\n",
            "25/25 [==============================] - 6s 227ms/step - loss: 0.9900 - accuracy: 0.4742 - val_loss: 0.9830 - val_accuracy: 0.4536\n",
            "Epoch 6/50\n",
            "25/25 [==============================] - 5s 218ms/step - loss: 0.9909 - accuracy: 0.4639 - val_loss: 0.9814 - val_accuracy: 0.5258\n",
            "Epoch 7/50\n",
            "25/25 [==============================] - 6s 224ms/step - loss: 0.9888 - accuracy: 0.4665 - val_loss: 0.9779 - val_accuracy: 0.4691\n",
            "Epoch 8/50\n",
            "25/25 [==============================] - 6s 223ms/step - loss: 0.9778 - accuracy: 0.5245 - val_loss: 0.9737 - val_accuracy: 0.5309\n",
            "Epoch 9/50\n",
            "25/25 [==============================] - 5s 215ms/step - loss: 0.9653 - accuracy: 0.5541 - val_loss: 0.9660 - val_accuracy: 0.5258\n",
            "Epoch 10/50\n",
            "25/25 [==============================] - 6s 221ms/step - loss: 0.9481 - accuracy: 0.6005 - val_loss: 0.9518 - val_accuracy: 0.5258\n",
            "Epoch 11/50\n",
            "25/25 [==============================] - 6s 224ms/step - loss: 0.9127 - accuracy: 0.6327 - val_loss: 0.9316 - val_accuracy: 0.5464\n",
            "Epoch 12/50\n",
            "25/25 [==============================] - 6s 223ms/step - loss: 0.8288 - accuracy: 0.6985 - val_loss: 0.9980 - val_accuracy: 0.5000\n",
            "Epoch 13/50\n",
            "25/25 [==============================] - 5s 212ms/step - loss: 0.7415 - accuracy: 0.7410 - val_loss: 0.9241 - val_accuracy: 0.5825\n",
            "Epoch 14/50\n",
            "25/25 [==============================] - 5s 215ms/step - loss: 0.6399 - accuracy: 0.7848 - val_loss: 0.9112 - val_accuracy: 0.5670\n",
            "Epoch 15/50\n",
            "25/25 [==============================] - 5s 213ms/step - loss: 0.5746 - accuracy: 0.7964 - val_loss: 0.9153 - val_accuracy: 0.6237\n",
            "Epoch 16/50\n",
            "25/25 [==============================] - 5s 215ms/step - loss: 0.5217 - accuracy: 0.8041 - val_loss: 0.9274 - val_accuracy: 0.6289\n",
            "Epoch 17/50\n",
            "25/25 [==============================] - 5s 215ms/step - loss: 0.4729 - accuracy: 0.8247 - val_loss: 0.9304 - val_accuracy: 0.6134\n",
            "Epoch 18/50\n",
            "25/25 [==============================] - 6s 226ms/step - loss: 0.4333 - accuracy: 0.8338 - val_loss: 0.9931 - val_accuracy: 0.5722\n",
            "Epoch 19/50\n",
            "25/25 [==============================] - 6s 226ms/step - loss: 0.3972 - accuracy: 0.8363 - val_loss: 0.9888 - val_accuracy: 0.6237\n",
            "Epoch 20/50\n",
            "25/25 [==============================] - 6s 229ms/step - loss: 0.3768 - accuracy: 0.8415 - val_loss: 1.0235 - val_accuracy: 0.5773\n",
            "Epoch 21/50\n",
            "25/25 [==============================] - 5s 217ms/step - loss: 0.3621 - accuracy: 0.8402 - val_loss: 1.1846 - val_accuracy: 0.5515\n",
            "Epoch 22/50\n",
            "25/25 [==============================] - 5s 219ms/step - loss: 0.3556 - accuracy: 0.8595 - val_loss: 0.9934 - val_accuracy: 0.6340\n",
            "Epoch 23/50\n",
            "25/25 [==============================] - 6s 225ms/step - loss: 0.2858 - accuracy: 0.8969 - val_loss: 1.0372 - val_accuracy: 0.5928\n",
            "Epoch 24/50\n",
            "25/25 [==============================] - 5s 217ms/step - loss: 0.2876 - accuracy: 0.9085 - val_loss: 1.0226 - val_accuracy: 0.5876\n",
            "Epoch 25/50\n",
            "25/25 [==============================] - 5s 218ms/step - loss: 0.2679 - accuracy: 0.9098 - val_loss: 1.1098 - val_accuracy: 0.5928\n",
            "Epoch 26/50\n",
            "25/25 [==============================] - 6s 223ms/step - loss: 0.2379 - accuracy: 0.9330 - val_loss: 1.1963 - val_accuracy: 0.5619\n",
            "Epoch 27/50\n",
            "25/25 [==============================] - 5s 214ms/step - loss: 0.2444 - accuracy: 0.9098 - val_loss: 1.2372 - val_accuracy: 0.5619\n",
            "Epoch 28/50\n",
            "25/25 [==============================] - 6s 224ms/step - loss: 0.2138 - accuracy: 0.9381 - val_loss: 1.1134 - val_accuracy: 0.6134\n",
            "Epoch 29/50\n",
            "25/25 [==============================] - 5s 217ms/step - loss: 0.1952 - accuracy: 0.9485 - val_loss: 1.1207 - val_accuracy: 0.6082\n",
            "Epoch 30/50\n",
            "25/25 [==============================] - 5s 214ms/step - loss: 0.1908 - accuracy: 0.9536 - val_loss: 1.1451 - val_accuracy: 0.6031\n",
            "Epoch 31/50\n",
            "25/25 [==============================] - 6s 224ms/step - loss: 0.1868 - accuracy: 0.9510 - val_loss: 1.1695 - val_accuracy: 0.6134\n",
            "Epoch 32/50\n",
            "25/25 [==============================] - 5s 213ms/step - loss: 0.1741 - accuracy: 0.9407 - val_loss: 1.1736 - val_accuracy: 0.6082\n",
            "Epoch 33/50\n",
            "25/25 [==============================] - 5s 216ms/step - loss: 0.1796 - accuracy: 0.9549 - val_loss: 1.1766 - val_accuracy: 0.5979\n",
            "Epoch 34/50\n",
            "25/25 [==============================] - 6s 224ms/step - loss: 0.1404 - accuracy: 0.9626 - val_loss: 1.3130 - val_accuracy: 0.5361\n",
            "Epoch 35/50\n",
            "25/25 [==============================] - 6s 222ms/step - loss: 0.1577 - accuracy: 0.9626 - val_loss: 1.2155 - val_accuracy: 0.6186\n",
            "Epoch 36/50\n",
            "25/25 [==============================] - 7s 293ms/step - loss: 0.1453 - accuracy: 0.9678 - val_loss: 1.2229 - val_accuracy: 0.6082\n",
            "Epoch 37/50\n",
            "25/25 [==============================] - 6s 244ms/step - loss: 0.1557 - accuracy: 0.9575 - val_loss: 1.2265 - val_accuracy: 0.6186\n",
            "Epoch 38/50\n",
            "25/25 [==============================] - 6s 223ms/step - loss: 0.1300 - accuracy: 0.9665 - val_loss: 1.2672 - val_accuracy: 0.5773\n",
            "Epoch 39/50\n",
            "25/25 [==============================] - 6s 222ms/step - loss: 0.1356 - accuracy: 0.9665 - val_loss: 1.2545 - val_accuracy: 0.6082\n",
            "Epoch 40/50\n",
            "25/25 [==============================] - 6s 223ms/step - loss: 0.1444 - accuracy: 0.9652 - val_loss: 1.2640 - val_accuracy: 0.6082\n",
            "Epoch 41/50\n",
            "25/25 [==============================] - 6s 220ms/step - loss: 0.1353 - accuracy: 0.9691 - val_loss: 1.3133 - val_accuracy: 0.6186\n",
            "Epoch 42/50\n",
            "25/25 [==============================] - 5s 216ms/step - loss: 0.1356 - accuracy: 0.9601 - val_loss: 1.2641 - val_accuracy: 0.6392\n",
            "Epoch 43/50\n",
            "25/25 [==============================] - 5s 220ms/step - loss: 0.1321 - accuracy: 0.9652 - val_loss: 1.3116 - val_accuracy: 0.6134\n",
            "Epoch 44/50\n",
            "25/25 [==============================] - 5s 213ms/step - loss: 0.1268 - accuracy: 0.9716 - val_loss: 1.5586 - val_accuracy: 0.5773\n",
            "Epoch 45/50\n",
            "25/25 [==============================] - 5s 214ms/step - loss: 0.1299 - accuracy: 0.9639 - val_loss: 1.3196 - val_accuracy: 0.6186\n",
            "Epoch 46/50\n",
            "25/25 [==============================] - 5s 214ms/step - loss: 0.1241 - accuracy: 0.9716 - val_loss: 1.3673 - val_accuracy: 0.6289\n",
            "Epoch 47/50\n",
            "25/25 [==============================] - 6s 225ms/step - loss: 0.1159 - accuracy: 0.9755 - val_loss: 1.5677 - val_accuracy: 0.6031\n",
            "Epoch 48/50\n",
            "25/25 [==============================] - 6s 220ms/step - loss: 0.1428 - accuracy: 0.9613 - val_loss: 1.3175 - val_accuracy: 0.6340\n",
            "Epoch 49/50\n",
            "25/25 [==============================] - 6s 223ms/step - loss: 0.1250 - accuracy: 0.9665 - val_loss: 1.3054 - val_accuracy: 0.6289\n",
            "Epoch 50/50\n",
            "25/25 [==============================] - 6s 223ms/step - loss: 0.1173 - accuracy: 0.9691 - val_loss: 1.3672 - val_accuracy: 0.6082\n"
          ]
        }
      ]
    },
    {
      "cell_type": "code",
      "source": [
        "# Freeze trainable parameters\n",
        "model_lstm_2.trainable = False\n",
        "# Save model \n",
        "model_lstm_2.save('model_lstm.tf')"
      ],
      "metadata": {
        "colab": {
          "base_uri": "https://localhost:8080/"
        },
        "id": "h5U1K7hcf72E",
        "outputId": "e15fe14e-72bf-4c09-d7ae-751508e1e52b"
      },
      "execution_count": 168,
      "outputs": [
        {
          "output_type": "stream",
          "name": "stderr",
          "text": [
            "WARNING:absl:Found untraced functions such as adapt_step, _jit_compiled_convolution_op, lstm_cell_2_layer_call_fn, lstm_cell_2_layer_call_and_return_conditional_losses, lstm_cell_3_layer_call_fn while saving (showing 5 of 6). These functions will not be directly callable after loading.\n"
          ]
        }
      ]
    },
    {
      "cell_type": "code",
      "source": [
        "# Tampilkan history loss dan accuracy training dan validation set pada setiap epoch\n",
        "metrics_model_lstm_hist_2 = pd.DataFrame(hist_model_lstm_2.history)\n",
        "metrics_model_lstm_hist_2"
      ],
      "metadata": {
        "colab": {
          "base_uri": "https://localhost:8080/",
          "height": 1000
        },
        "id": "J7xQxLO1Yh3B",
        "outputId": "bcbc76a2-faf1-4175-9706-4175a41990ff"
      },
      "execution_count": 128,
      "outputs": [
        {
          "output_type": "execute_result",
          "data": {
            "text/plain": [
              "        loss  accuracy  val_loss  val_accuracy\n",
              "0   1.049601  0.451031  1.014596      0.443299\n",
              "1   1.005622  0.445876  0.992185      0.443299\n",
              "2   0.995072  0.454897  0.987111      0.453608\n",
              "3   0.989929  0.443299  0.984984      0.453608\n",
              "4   0.990008  0.474227  0.983010      0.453608\n",
              "5   0.990905  0.463918  0.981394      0.525773\n",
              "6   0.988827  0.466495  0.977853      0.469072\n",
              "7   0.977798  0.524485  0.973729      0.530928\n",
              "8   0.965268  0.554124  0.966033      0.525773\n",
              "9   0.948129  0.600515  0.951769      0.525773\n",
              "10  0.912727  0.632732  0.931624      0.546392\n",
              "11  0.828770  0.698454  0.998020      0.500000\n",
              "12  0.741513  0.740979  0.924055      0.582474\n",
              "13  0.639891  0.784794  0.911162      0.567010\n",
              "14  0.574614  0.796392  0.915270      0.623711\n",
              "15  0.521717  0.804124  0.927369      0.628866\n",
              "16  0.472853  0.824742  0.930355      0.613402\n",
              "17  0.433272  0.833763  0.993075      0.572165\n",
              "18  0.397171  0.836340  0.988843      0.623711\n",
              "19  0.376835  0.841495  1.023476      0.577320\n",
              "20  0.362094  0.840206  1.184645      0.551546\n",
              "21  0.355587  0.859536  0.993391      0.634021\n",
              "22  0.285792  0.896907  1.037170      0.592784\n",
              "23  0.287619  0.908505  1.022552      0.587629\n",
              "24  0.267880  0.909794  1.109825      0.592784\n",
              "25  0.237853  0.932990  1.196317      0.561856\n",
              "26  0.244371  0.909794  1.237197      0.561856\n",
              "27  0.213846  0.938144  1.113434      0.613402\n",
              "28  0.195176  0.948454  1.120749      0.608247\n",
              "29  0.190796  0.953608  1.145107      0.603093\n",
              "30  0.186787  0.951031  1.169504      0.613402\n",
              "31  0.174147  0.940722  1.173595      0.608247\n",
              "32  0.179574  0.954897  1.176622      0.597938\n",
              "33  0.140381  0.962629  1.312952      0.536082\n",
              "34  0.157654  0.962629  1.215473      0.618557\n",
              "35  0.145348  0.967784  1.222903      0.608247\n",
              "36  0.155746  0.957474  1.226506      0.618557\n",
              "37  0.129962  0.966495  1.267231      0.577320\n",
              "38  0.135585  0.966495  1.254505      0.608247\n",
              "39  0.144422  0.965206  1.263976      0.608247\n",
              "40  0.135346  0.969072  1.313350      0.618557\n",
              "41  0.135558  0.960052  1.264144      0.639175\n",
              "42  0.132093  0.965206  1.311637      0.613402\n",
              "43  0.126827  0.971649  1.558624      0.577320\n",
              "44  0.129948  0.963918  1.319637      0.618557\n",
              "45  0.124083  0.971649  1.367335      0.628866\n",
              "46  0.115872  0.975515  1.567733      0.603093\n",
              "47  0.142823  0.961340  1.317514      0.634021\n",
              "48  0.124967  0.966495  1.305385      0.628866\n",
              "49  0.117295  0.969072  1.367153      0.608247"
            ],
            "text/html": [
              "\n",
              "  <div id=\"df-5c232ad3-7437-4756-a657-a346d1751f65\">\n",
              "    <div class=\"colab-df-container\">\n",
              "      <div>\n",
              "<style scoped>\n",
              "    .dataframe tbody tr th:only-of-type {\n",
              "        vertical-align: middle;\n",
              "    }\n",
              "\n",
              "    .dataframe tbody tr th {\n",
              "        vertical-align: top;\n",
              "    }\n",
              "\n",
              "    .dataframe thead th {\n",
              "        text-align: right;\n",
              "    }\n",
              "</style>\n",
              "<table border=\"1\" class=\"dataframe\">\n",
              "  <thead>\n",
              "    <tr style=\"text-align: right;\">\n",
              "      <th></th>\n",
              "      <th>loss</th>\n",
              "      <th>accuracy</th>\n",
              "      <th>val_loss</th>\n",
              "      <th>val_accuracy</th>\n",
              "    </tr>\n",
              "  </thead>\n",
              "  <tbody>\n",
              "    <tr>\n",
              "      <th>0</th>\n",
              "      <td>1.049601</td>\n",
              "      <td>0.451031</td>\n",
              "      <td>1.014596</td>\n",
              "      <td>0.443299</td>\n",
              "    </tr>\n",
              "    <tr>\n",
              "      <th>1</th>\n",
              "      <td>1.005622</td>\n",
              "      <td>0.445876</td>\n",
              "      <td>0.992185</td>\n",
              "      <td>0.443299</td>\n",
              "    </tr>\n",
              "    <tr>\n",
              "      <th>2</th>\n",
              "      <td>0.995072</td>\n",
              "      <td>0.454897</td>\n",
              "      <td>0.987111</td>\n",
              "      <td>0.453608</td>\n",
              "    </tr>\n",
              "    <tr>\n",
              "      <th>3</th>\n",
              "      <td>0.989929</td>\n",
              "      <td>0.443299</td>\n",
              "      <td>0.984984</td>\n",
              "      <td>0.453608</td>\n",
              "    </tr>\n",
              "    <tr>\n",
              "      <th>4</th>\n",
              "      <td>0.990008</td>\n",
              "      <td>0.474227</td>\n",
              "      <td>0.983010</td>\n",
              "      <td>0.453608</td>\n",
              "    </tr>\n",
              "    <tr>\n",
              "      <th>5</th>\n",
              "      <td>0.990905</td>\n",
              "      <td>0.463918</td>\n",
              "      <td>0.981394</td>\n",
              "      <td>0.525773</td>\n",
              "    </tr>\n",
              "    <tr>\n",
              "      <th>6</th>\n",
              "      <td>0.988827</td>\n",
              "      <td>0.466495</td>\n",
              "      <td>0.977853</td>\n",
              "      <td>0.469072</td>\n",
              "    </tr>\n",
              "    <tr>\n",
              "      <th>7</th>\n",
              "      <td>0.977798</td>\n",
              "      <td>0.524485</td>\n",
              "      <td>0.973729</td>\n",
              "      <td>0.530928</td>\n",
              "    </tr>\n",
              "    <tr>\n",
              "      <th>8</th>\n",
              "      <td>0.965268</td>\n",
              "      <td>0.554124</td>\n",
              "      <td>0.966033</td>\n",
              "      <td>0.525773</td>\n",
              "    </tr>\n",
              "    <tr>\n",
              "      <th>9</th>\n",
              "      <td>0.948129</td>\n",
              "      <td>0.600515</td>\n",
              "      <td>0.951769</td>\n",
              "      <td>0.525773</td>\n",
              "    </tr>\n",
              "    <tr>\n",
              "      <th>10</th>\n",
              "      <td>0.912727</td>\n",
              "      <td>0.632732</td>\n",
              "      <td>0.931624</td>\n",
              "      <td>0.546392</td>\n",
              "    </tr>\n",
              "    <tr>\n",
              "      <th>11</th>\n",
              "      <td>0.828770</td>\n",
              "      <td>0.698454</td>\n",
              "      <td>0.998020</td>\n",
              "      <td>0.500000</td>\n",
              "    </tr>\n",
              "    <tr>\n",
              "      <th>12</th>\n",
              "      <td>0.741513</td>\n",
              "      <td>0.740979</td>\n",
              "      <td>0.924055</td>\n",
              "      <td>0.582474</td>\n",
              "    </tr>\n",
              "    <tr>\n",
              "      <th>13</th>\n",
              "      <td>0.639891</td>\n",
              "      <td>0.784794</td>\n",
              "      <td>0.911162</td>\n",
              "      <td>0.567010</td>\n",
              "    </tr>\n",
              "    <tr>\n",
              "      <th>14</th>\n",
              "      <td>0.574614</td>\n",
              "      <td>0.796392</td>\n",
              "      <td>0.915270</td>\n",
              "      <td>0.623711</td>\n",
              "    </tr>\n",
              "    <tr>\n",
              "      <th>15</th>\n",
              "      <td>0.521717</td>\n",
              "      <td>0.804124</td>\n",
              "      <td>0.927369</td>\n",
              "      <td>0.628866</td>\n",
              "    </tr>\n",
              "    <tr>\n",
              "      <th>16</th>\n",
              "      <td>0.472853</td>\n",
              "      <td>0.824742</td>\n",
              "      <td>0.930355</td>\n",
              "      <td>0.613402</td>\n",
              "    </tr>\n",
              "    <tr>\n",
              "      <th>17</th>\n",
              "      <td>0.433272</td>\n",
              "      <td>0.833763</td>\n",
              "      <td>0.993075</td>\n",
              "      <td>0.572165</td>\n",
              "    </tr>\n",
              "    <tr>\n",
              "      <th>18</th>\n",
              "      <td>0.397171</td>\n",
              "      <td>0.836340</td>\n",
              "      <td>0.988843</td>\n",
              "      <td>0.623711</td>\n",
              "    </tr>\n",
              "    <tr>\n",
              "      <th>19</th>\n",
              "      <td>0.376835</td>\n",
              "      <td>0.841495</td>\n",
              "      <td>1.023476</td>\n",
              "      <td>0.577320</td>\n",
              "    </tr>\n",
              "    <tr>\n",
              "      <th>20</th>\n",
              "      <td>0.362094</td>\n",
              "      <td>0.840206</td>\n",
              "      <td>1.184645</td>\n",
              "      <td>0.551546</td>\n",
              "    </tr>\n",
              "    <tr>\n",
              "      <th>21</th>\n",
              "      <td>0.355587</td>\n",
              "      <td>0.859536</td>\n",
              "      <td>0.993391</td>\n",
              "      <td>0.634021</td>\n",
              "    </tr>\n",
              "    <tr>\n",
              "      <th>22</th>\n",
              "      <td>0.285792</td>\n",
              "      <td>0.896907</td>\n",
              "      <td>1.037170</td>\n",
              "      <td>0.592784</td>\n",
              "    </tr>\n",
              "    <tr>\n",
              "      <th>23</th>\n",
              "      <td>0.287619</td>\n",
              "      <td>0.908505</td>\n",
              "      <td>1.022552</td>\n",
              "      <td>0.587629</td>\n",
              "    </tr>\n",
              "    <tr>\n",
              "      <th>24</th>\n",
              "      <td>0.267880</td>\n",
              "      <td>0.909794</td>\n",
              "      <td>1.109825</td>\n",
              "      <td>0.592784</td>\n",
              "    </tr>\n",
              "    <tr>\n",
              "      <th>25</th>\n",
              "      <td>0.237853</td>\n",
              "      <td>0.932990</td>\n",
              "      <td>1.196317</td>\n",
              "      <td>0.561856</td>\n",
              "    </tr>\n",
              "    <tr>\n",
              "      <th>26</th>\n",
              "      <td>0.244371</td>\n",
              "      <td>0.909794</td>\n",
              "      <td>1.237197</td>\n",
              "      <td>0.561856</td>\n",
              "    </tr>\n",
              "    <tr>\n",
              "      <th>27</th>\n",
              "      <td>0.213846</td>\n",
              "      <td>0.938144</td>\n",
              "      <td>1.113434</td>\n",
              "      <td>0.613402</td>\n",
              "    </tr>\n",
              "    <tr>\n",
              "      <th>28</th>\n",
              "      <td>0.195176</td>\n",
              "      <td>0.948454</td>\n",
              "      <td>1.120749</td>\n",
              "      <td>0.608247</td>\n",
              "    </tr>\n",
              "    <tr>\n",
              "      <th>29</th>\n",
              "      <td>0.190796</td>\n",
              "      <td>0.953608</td>\n",
              "      <td>1.145107</td>\n",
              "      <td>0.603093</td>\n",
              "    </tr>\n",
              "    <tr>\n",
              "      <th>30</th>\n",
              "      <td>0.186787</td>\n",
              "      <td>0.951031</td>\n",
              "      <td>1.169504</td>\n",
              "      <td>0.613402</td>\n",
              "    </tr>\n",
              "    <tr>\n",
              "      <th>31</th>\n",
              "      <td>0.174147</td>\n",
              "      <td>0.940722</td>\n",
              "      <td>1.173595</td>\n",
              "      <td>0.608247</td>\n",
              "    </tr>\n",
              "    <tr>\n",
              "      <th>32</th>\n",
              "      <td>0.179574</td>\n",
              "      <td>0.954897</td>\n",
              "      <td>1.176622</td>\n",
              "      <td>0.597938</td>\n",
              "    </tr>\n",
              "    <tr>\n",
              "      <th>33</th>\n",
              "      <td>0.140381</td>\n",
              "      <td>0.962629</td>\n",
              "      <td>1.312952</td>\n",
              "      <td>0.536082</td>\n",
              "    </tr>\n",
              "    <tr>\n",
              "      <th>34</th>\n",
              "      <td>0.157654</td>\n",
              "      <td>0.962629</td>\n",
              "      <td>1.215473</td>\n",
              "      <td>0.618557</td>\n",
              "    </tr>\n",
              "    <tr>\n",
              "      <th>35</th>\n",
              "      <td>0.145348</td>\n",
              "      <td>0.967784</td>\n",
              "      <td>1.222903</td>\n",
              "      <td>0.608247</td>\n",
              "    </tr>\n",
              "    <tr>\n",
              "      <th>36</th>\n",
              "      <td>0.155746</td>\n",
              "      <td>0.957474</td>\n",
              "      <td>1.226506</td>\n",
              "      <td>0.618557</td>\n",
              "    </tr>\n",
              "    <tr>\n",
              "      <th>37</th>\n",
              "      <td>0.129962</td>\n",
              "      <td>0.966495</td>\n",
              "      <td>1.267231</td>\n",
              "      <td>0.577320</td>\n",
              "    </tr>\n",
              "    <tr>\n",
              "      <th>38</th>\n",
              "      <td>0.135585</td>\n",
              "      <td>0.966495</td>\n",
              "      <td>1.254505</td>\n",
              "      <td>0.608247</td>\n",
              "    </tr>\n",
              "    <tr>\n",
              "      <th>39</th>\n",
              "      <td>0.144422</td>\n",
              "      <td>0.965206</td>\n",
              "      <td>1.263976</td>\n",
              "      <td>0.608247</td>\n",
              "    </tr>\n",
              "    <tr>\n",
              "      <th>40</th>\n",
              "      <td>0.135346</td>\n",
              "      <td>0.969072</td>\n",
              "      <td>1.313350</td>\n",
              "      <td>0.618557</td>\n",
              "    </tr>\n",
              "    <tr>\n",
              "      <th>41</th>\n",
              "      <td>0.135558</td>\n",
              "      <td>0.960052</td>\n",
              "      <td>1.264144</td>\n",
              "      <td>0.639175</td>\n",
              "    </tr>\n",
              "    <tr>\n",
              "      <th>42</th>\n",
              "      <td>0.132093</td>\n",
              "      <td>0.965206</td>\n",
              "      <td>1.311637</td>\n",
              "      <td>0.613402</td>\n",
              "    </tr>\n",
              "    <tr>\n",
              "      <th>43</th>\n",
              "      <td>0.126827</td>\n",
              "      <td>0.971649</td>\n",
              "      <td>1.558624</td>\n",
              "      <td>0.577320</td>\n",
              "    </tr>\n",
              "    <tr>\n",
              "      <th>44</th>\n",
              "      <td>0.129948</td>\n",
              "      <td>0.963918</td>\n",
              "      <td>1.319637</td>\n",
              "      <td>0.618557</td>\n",
              "    </tr>\n",
              "    <tr>\n",
              "      <th>45</th>\n",
              "      <td>0.124083</td>\n",
              "      <td>0.971649</td>\n",
              "      <td>1.367335</td>\n",
              "      <td>0.628866</td>\n",
              "    </tr>\n",
              "    <tr>\n",
              "      <th>46</th>\n",
              "      <td>0.115872</td>\n",
              "      <td>0.975515</td>\n",
              "      <td>1.567733</td>\n",
              "      <td>0.603093</td>\n",
              "    </tr>\n",
              "    <tr>\n",
              "      <th>47</th>\n",
              "      <td>0.142823</td>\n",
              "      <td>0.961340</td>\n",
              "      <td>1.317514</td>\n",
              "      <td>0.634021</td>\n",
              "    </tr>\n",
              "    <tr>\n",
              "      <th>48</th>\n",
              "      <td>0.124967</td>\n",
              "      <td>0.966495</td>\n",
              "      <td>1.305385</td>\n",
              "      <td>0.628866</td>\n",
              "    </tr>\n",
              "    <tr>\n",
              "      <th>49</th>\n",
              "      <td>0.117295</td>\n",
              "      <td>0.969072</td>\n",
              "      <td>1.367153</td>\n",
              "      <td>0.608247</td>\n",
              "    </tr>\n",
              "  </tbody>\n",
              "</table>\n",
              "</div>\n",
              "      <button class=\"colab-df-convert\" onclick=\"convertToInteractive('df-5c232ad3-7437-4756-a657-a346d1751f65')\"\n",
              "              title=\"Convert this dataframe to an interactive table.\"\n",
              "              style=\"display:none;\">\n",
              "        \n",
              "  <svg xmlns=\"http://www.w3.org/2000/svg\" height=\"24px\"viewBox=\"0 0 24 24\"\n",
              "       width=\"24px\">\n",
              "    <path d=\"M0 0h24v24H0V0z\" fill=\"none\"/>\n",
              "    <path d=\"M18.56 5.44l.94 2.06.94-2.06 2.06-.94-2.06-.94-.94-2.06-.94 2.06-2.06.94zm-11 1L8.5 8.5l.94-2.06 2.06-.94-2.06-.94L8.5 2.5l-.94 2.06-2.06.94zm10 10l.94 2.06.94-2.06 2.06-.94-2.06-.94-.94-2.06-.94 2.06-2.06.94z\"/><path d=\"M17.41 7.96l-1.37-1.37c-.4-.4-.92-.59-1.43-.59-.52 0-1.04.2-1.43.59L10.3 9.45l-7.72 7.72c-.78.78-.78 2.05 0 2.83L4 21.41c.39.39.9.59 1.41.59.51 0 1.02-.2 1.41-.59l7.78-7.78 2.81-2.81c.8-.78.8-2.07 0-2.86zM5.41 20L4 18.59l7.72-7.72 1.47 1.35L5.41 20z\"/>\n",
              "  </svg>\n",
              "      </button>\n",
              "      \n",
              "  <style>\n",
              "    .colab-df-container {\n",
              "      display:flex;\n",
              "      flex-wrap:wrap;\n",
              "      gap: 12px;\n",
              "    }\n",
              "\n",
              "    .colab-df-convert {\n",
              "      background-color: #E8F0FE;\n",
              "      border: none;\n",
              "      border-radius: 50%;\n",
              "      cursor: pointer;\n",
              "      display: none;\n",
              "      fill: #1967D2;\n",
              "      height: 32px;\n",
              "      padding: 0 0 0 0;\n",
              "      width: 32px;\n",
              "    }\n",
              "\n",
              "    .colab-df-convert:hover {\n",
              "      background-color: #E2EBFA;\n",
              "      box-shadow: 0px 1px 2px rgba(60, 64, 67, 0.3), 0px 1px 3px 1px rgba(60, 64, 67, 0.15);\n",
              "      fill: #174EA6;\n",
              "    }\n",
              "\n",
              "    [theme=dark] .colab-df-convert {\n",
              "      background-color: #3B4455;\n",
              "      fill: #D2E3FC;\n",
              "    }\n",
              "\n",
              "    [theme=dark] .colab-df-convert:hover {\n",
              "      background-color: #434B5C;\n",
              "      box-shadow: 0px 1px 3px 1px rgba(0, 0, 0, 0.15);\n",
              "      filter: drop-shadow(0px 1px 2px rgba(0, 0, 0, 0.3));\n",
              "      fill: #FFFFFF;\n",
              "    }\n",
              "  </style>\n",
              "\n",
              "      <script>\n",
              "        const buttonEl =\n",
              "          document.querySelector('#df-5c232ad3-7437-4756-a657-a346d1751f65 button.colab-df-convert');\n",
              "        buttonEl.style.display =\n",
              "          google.colab.kernel.accessAllowed ? 'block' : 'none';\n",
              "\n",
              "        async function convertToInteractive(key) {\n",
              "          const element = document.querySelector('#df-5c232ad3-7437-4756-a657-a346d1751f65');\n",
              "          const dataTable =\n",
              "            await google.colab.kernel.invokeFunction('convertToInteractive',\n",
              "                                                     [key], {});\n",
              "          if (!dataTable) return;\n",
              "\n",
              "          const docLinkHtml = 'Like what you see? Visit the ' +\n",
              "            '<a target=\"_blank\" href=https://colab.research.google.com/notebooks/data_table.ipynb>data table notebook</a>'\n",
              "            + ' to learn more about interactive tables.';\n",
              "          element.innerHTML = '';\n",
              "          dataTable['output_type'] = 'display_data';\n",
              "          await google.colab.output.renderOutput(dataTable, element);\n",
              "          const docLink = document.createElement('div');\n",
              "          docLink.innerHTML = docLinkHtml;\n",
              "          element.appendChild(docLink);\n",
              "        }\n",
              "      </script>\n",
              "    </div>\n",
              "  </div>\n",
              "  "
            ]
          },
          "metadata": {},
          "execution_count": 128
        }
      ]
    },
    {
      "cell_type": "code",
      "source": [
        "# Plot accuracy training dan validation set\n",
        "metrics_model_lstm_hist_2[['accuracy', 'val_accuracy']].plot()"
      ],
      "metadata": {
        "colab": {
          "base_uri": "https://localhost:8080/",
          "height": 287
        },
        "id": "bPMvmMM6YlZU",
        "outputId": "65ca84a9-d332-4bd8-8d83-fe909b42bfea"
      },
      "execution_count": 129,
      "outputs": [
        {
          "output_type": "execute_result",
          "data": {
            "text/plain": [
              "<matplotlib.axes._subplots.AxesSubplot at 0x7f12c2cacbe0>"
            ]
          },
          "metadata": {},
          "execution_count": 129
        },
        {
          "output_type": "display_data",
          "data": {
            "text/plain": [
              "<Figure size 432x288 with 1 Axes>"
            ],
            "image/png": "[encoded data removed]"
          },
          "metadata": {
            "needs_background": "light"
          }
        }
      ]
    },
    {
      "cell_type": "code",
      "source": [
        "# Plot loss function training dan validation set\n",
        "metrics_model_lstm_hist_2[['loss', 'val_loss']].plot()"
      ],
      "metadata": {
        "colab": {
          "base_uri": "https://localhost:8080/",
          "height": 283
        },
        "id": "-XktJy9gYnZu",
        "outputId": "1e359818-16cc-4ae1-baa1-39c800b39ba7"
      },
      "execution_count": 130,
      "outputs": [
        {
          "output_type": "execute_result",
          "data": {
            "text/plain": [
              "<matplotlib.axes._subplots.AxesSubplot at 0x7f12c2f91a60>"
            ]
          },
          "metadata": {},
          "execution_count": 130
        },
        {
          "output_type": "display_data",
          "data": {
            "text/plain": [
              "<Figure size 432x288 with 1 Axes>"
            ],
            "image/png": "[encoded data removed]"
          },
          "metadata": {
            "needs_background": "light"
          }
        }
      ]
    },
    {
      "cell_type": "code",
      "source": [
        "y_pred_model_lstm_2 = np.argmax(model_lstm_2.predict(X_test), axis=-1)"
      ],
      "metadata": {
        "colab": {
          "base_uri": "https://localhost:8080/"
        },
        "id": "DWCq55RvZU5M",
        "outputId": "b42ba4e1-664b-4c6c-bc11-1bac0ec60b73"
      },
      "execution_count": 131,
      "outputs": [
        {
          "output_type": "stream",
          "name": "stdout",
          "text": [
            "2/7 [=======>......................] - ETA: 0s"
          ]
        },
        {
          "output_type": "stream",
          "name": "stderr",
          "text": [
            "/usr/local/lib/python3.8/dist-packages/tensorflow/python/data/ops/structured_function.py:264: UserWarning: Even though the `tf.config.experimental_run_functions_eagerly` option is set, this option does not apply to tf.data functions. To force eager execution of tf.data functions, please use `tf.data.experimental.enable_debug_mode()`.\n",
            "  warnings.warn(\n"
          ]
        },
        {
          "output_type": "stream",
          "name": "stdout",
          "text": [
            "7/7 [==============================] - 0s 60ms/step\n"
          ]
        }
      ]
    },
    {
      "cell_type": "code",
      "source": [
        "y_pred_model_lstm_2"
      ],
      "metadata": {
        "colab": {
          "base_uri": "https://localhost:8080/"
        },
        "id": "cDuF0PFDZYoT",
        "outputId": "36834dfc-46eb-4e8d-b131-819aaf65dc61"
      },
      "execution_count": 32,
      "outputs": [
        {
          "output_type": "execute_result",
          "data": {
            "text/plain": [
              "array([1, 0, 1, 0, 2, 2, 2, 0, 0, 0, 2, 2, 1, 2, 1, 1, 1, 1, 1, 1, 2, 0,\n",
              "       0, 0, 2, 0, 0, 2, 2, 2, 1, 0, 1, 0, 1, 2, 1, 1, 1, 0, 1, 1, 1, 2,\n",
              "       2, 0, 2, 0, 2, 1, 1, 2, 2, 0, 2, 2, 1, 1, 1, 0, 1, 2, 1, 2, 2, 0,\n",
              "       1, 0, 2, 0, 1, 0, 0, 1, 0, 0, 0, 0, 0, 1, 0, 0, 0, 0, 1, 1, 0, 0,\n",
              "       0, 0, 1, 0, 0, 2, 1, 0, 1, 0, 0, 2, 2, 0, 1, 1, 1, 2, 0, 0, 2, 1,\n",
              "       0, 2, 1, 0, 0, 0, 0, 0, 1, 0, 1, 0, 0, 2, 2, 1, 1, 0, 1, 1, 0, 2,\n",
              "       1, 1, 2, 0, 2, 0, 2, 0, 1, 2, 0, 1, 0, 0, 1, 2, 2, 1, 1, 2, 1, 1,\n",
              "       0, 0, 1, 2, 0, 0, 1, 2, 0, 1, 2, 0, 0, 0, 0, 1, 0, 2, 2, 1, 2, 0,\n",
              "       0, 0, 0, 1, 0, 1, 0, 1, 1, 0, 2, 0, 0, 0, 1, 1, 2, 1, 0, 0, 0, 1,\n",
              "       0, 0, 0, 2, 2, 1, 0, 1, 1, 0, 1, 0])"
            ]
          },
          "metadata": {},
          "execution_count": 32
        }
      ]
    },
    {
      "cell_type": "code",
      "source": [
        "y_test"
      ],
      "metadata": {
        "colab": {
          "base_uri": "https://localhost:8080/"
        },
        "id": "ZSARwFb7ZnMC",
        "outputId": "74a7b331-8f40-4651-cf30-b3bc39fc3cc7"
      },
      "execution_count": 33,
      "outputs": [
        {
          "output_type": "execute_result",
          "data": {
            "text/plain": [
              "857    1\n",
              "145    0\n",
              "761    1\n",
              "644    0\n",
              "441    1\n",
              "      ..\n",
              "826    1\n",
              "556    1\n",
              "215    1\n",
              "478    1\n",
              "975    0\n",
              "Name: Label, Length: 210, dtype: int64"
            ]
          },
          "metadata": {},
          "execution_count": 33
        }
      ]
    },
    {
      "cell_type": "code",
      "source": [
        "print('Model Training Sendiri')\n",
        "print(classification_report(y_test, y_pred_model_lstm_2))"
      ],
      "metadata": {
        "colab": {
          "base_uri": "https://localhost:8080/"
        },
        "id": "1Sb7ZAUgbXP6",
        "outputId": "fa4c4a68-08ec-45fd-f6dc-45912272a341"
      },
      "execution_count": 132,
      "outputs": [
        {
          "output_type": "stream",
          "name": "stdout",
          "text": [
            "Model Training Sendiri\n",
            "              precision    recall  f1-score   support\n",
            "\n",
            "           0       0.71      0.67      0.69        83\n",
            "           1       0.86      0.50      0.63        86\n",
            "           2       0.29      0.76      0.42        25\n",
            "\n",
            "    accuracy                           0.61       194\n",
            "   macro avg       0.62      0.64      0.58       194\n",
            "weighted avg       0.72      0.61      0.63       194\n",
            "\n"
          ]
        }
      ]
    },
    {
      "cell_type": "code",
      "source": [
        "!zip -r /content/model_lstm.zip /content/model_lstm.tf"
      ],
      "metadata": {
        "colab": {
          "base_uri": "https://localhost:8080/"
        },
        "id": "M9MrfESveaah",
        "outputId": "782df097-fe9a-4831-c92f-24ed9bb63e33"
      },
      "execution_count": 169,
      "outputs": [
        {
          "output_type": "stream",
          "name": "stdout",
          "text": [
            "  adding: content/model_lstm.tf/ (stored 0%)\n",
            "  adding: content/model_lstm.tf/keras_metadata.pb (deflated 90%)\n",
            "  adding: content/model_lstm.tf/saved_model.pb (deflated 89%)\n",
            "  adding: content/model_lstm.tf/variables/ (stored 0%)\n",
            "  adding: content/model_lstm.tf/variables/variables.index (deflated 63%)\n",
            "  adding: content/model_lstm.tf/variables/variables.data-00000-of-00001 (deflated 7%)\n",
            "  adding: content/model_lstm.tf/assets/ (stored 0%)\n"
          ]
        }
      ]
    },
    {
      "cell_type": "code",
      "source": [
        "import joblib\n",
        "import sklearn\n",
        "import tensorflow"
      ],
      "metadata": {
        "id": "HrXd4-hhIpbQ"
      },
      "execution_count": 21,
      "outputs": []
    },
    {
      "cell_type": "code",
      "source": [
        "print(joblib.__version__)\n"
      ],
      "metadata": {
        "colab": {
          "base_uri": "https://localhost:8080/"
        },
        "id": "zGZ_bipAIjI8",
        "outputId": "16739f33-7621-43e0-9821-de3b9e81a8dc"
      },
      "execution_count": 23,
      "outputs": [
        {
          "output_type": "stream",
          "name": "stdout",
          "text": [
            "1.2.0\n"
          ]
        }
      ]
    },
    {
      "cell_type": "code",
      "source": [
        "print(sklearn.__version__)"
      ],
      "metadata": {
        "colab": {
          "base_uri": "https://localhost:8080/"
        },
        "id": "d1Hq0p1fI2bz",
        "outputId": "b2b405c4-0f73-4e32-afca-d8114038c51c"
      },
      "execution_count": 15,
      "outputs": [
        {
          "output_type": "stream",
          "name": "stdout",
          "text": [
            "1.0.2\n"
          ]
        }
      ]
    },
    {
      "cell_type": "code",
      "source": [
        "print(tensorflow.__version__)"
      ],
      "metadata": {
        "colab": {
          "base_uri": "https://localhost:8080/"
        },
        "id": "uHwWKcWuJVBE",
        "outputId": "3189b061-f442-4e30-ac56-5cbc5926ef9c"
      },
      "execution_count": 22,
      "outputs": [
        {
          "output_type": "stream",
          "name": "stdout",
          "text": [
            "2.9.2\n"
          ]
        }
      ]
    },
    {
      "cell_type": "code",
      "source": [
        "!pip install joblib==1.1.1"
      ],
      "metadata": {
        "colab": {
          "base_uri": "https://localhost:8080/",
          "height": 286
        },
        "id": "567HZaMtIyLr",
        "outputId": "8a9ab31e-93b2-4609-a487-5a8e27ddd0b9"
      },
      "execution_count": 24,
      "outputs": [
        {
          "output_type": "stream",
          "name": "stdout",
          "text": [
            "Looking in indexes: https://pypi.org/simple, https://us-python.pkg.dev/colab-wheels/public/simple/\n",
            "Collecting joblib==1.1.1\n",
            "  Downloading joblib-1.1.1-py2.py3-none-any.whl (309 kB)\n",
            "\u001b[K     |████████████████████████████████| 309 kB 4.4 MB/s \n",
            "\u001b[?25hInstalling collected packages: joblib\n",
            "  Attempting uninstall: joblib\n",
            "    Found existing installation: joblib 1.2.0\n",
            "    Uninstalling joblib-1.2.0:\n",
            "      Successfully uninstalled joblib-1.2.0\n",
            "Successfully installed joblib-1.1.1\n"
          ]
        },
        {
          "output_type": "display_data",
          "data": {
            "application/vnd.colab-display-data+json": {
              "pip_warning": {
                "packages": [
                  "joblib"
                ]
              }
            }
          },
          "metadata": {}
        }
      ]
    },
    {
      "cell_type": "code",
      "source": [
        "!pip install tensorflow==2.9.1"
      ],
      "metadata": {
        "colab": {
          "base_uri": "https://localhost:8080/",
          "height": 1000
        },
        "id": "ti3H-9zvJZc6",
        "outputId": "544c12fa-643a-4f94-d974-20e015222977"
      },
      "execution_count": 25,
      "outputs": [
        {
          "output_type": "stream",
          "name": "stdout",
          "text": [
            "Looking in indexes: https://pypi.org/simple, https://us-python.pkg.dev/colab-wheels/public/simple/\n",
            "Collecting tensorflow==2.9.1\n",
            "  Downloading tensorflow-2.9.1-cp38-cp38-manylinux_2_17_x86_64.manylinux2014_x86_64.whl (511.7 MB)\n",
            "\u001b[K     |████████████████████████████████| 511.7 MB 20 kB/s \n",
            "\u001b[?25hRequirement already satisfied: absl-py>=1.0.0 in /usr/local/lib/python3.8/dist-packages (from tensorflow==2.9.1) (1.3.0)\n",
            "Requirement already satisfied: packaging in /usr/local/lib/python3.8/dist-packages (from tensorflow==2.9.1) (21.3)\n",
            "Requirement already satisfied: tensorboard<2.10,>=2.9 in /usr/local/lib/python3.8/dist-packages (from tensorflow==2.9.1) (2.9.1)\n",
            "Requirement already satisfied: h5py>=2.9.0 in /usr/local/lib/python3.8/dist-packages (from tensorflow==2.9.1) (3.1.0)\n",
            "Requirement already satisfied: termcolor>=1.1.0 in /usr/local/lib/python3.8/dist-packages (from tensorflow==2.9.1) (2.1.1)\n",
            "Requirement already satisfied: numpy>=1.20 in /usr/local/lib/python3.8/dist-packages (from tensorflow==2.9.1) (1.21.6)\n",
            "Requirement already satisfied: six>=1.12.0 in /usr/local/lib/python3.8/dist-packages (from tensorflow==2.9.1) (1.15.0)\n",
            "Requirement already satisfied: libclang>=13.0.0 in /usr/local/lib/python3.8/dist-packages (from tensorflow==2.9.1) (14.0.6)\n",
            "Requirement already satisfied: wrapt>=1.11.0 in /usr/local/lib/python3.8/dist-packages (from tensorflow==2.9.1) (1.14.1)\n",
            "Requirement already satisfied: typing-extensions>=3.6.6 in /usr/local/lib/python3.8/dist-packages (from tensorflow==2.9.1) (4.4.0)\n",
            "Requirement already satisfied: google-pasta>=0.1.1 in /usr/local/lib/python3.8/dist-packages (from tensorflow==2.9.1) (0.2.0)\n",
            "Requirement already satisfied: setuptools in /usr/local/lib/python3.8/dist-packages (from tensorflow==2.9.1) (57.4.0)\n",
            "Requirement already satisfied: tensorflow-estimator<2.10.0,>=2.9.0rc0 in /usr/local/lib/python3.8/dist-packages (from tensorflow==2.9.1) (2.9.0)\n",
            "Requirement already satisfied: gast<=0.4.0,>=0.2.1 in /usr/local/lib/python3.8/dist-packages (from tensorflow==2.9.1) (0.4.0)\n",
            "Requirement already satisfied: flatbuffers<2,>=1.12 in /usr/local/lib/python3.8/dist-packages (from tensorflow==2.9.1) (1.12)\n",
            "Requirement already satisfied: astunparse>=1.6.0 in /usr/local/lib/python3.8/dist-packages (from tensorflow==2.9.1) (1.6.3)\n",
            "Requirement already satisfied: grpcio<2.0,>=1.24.3 in /usr/local/lib/python3.8/dist-packages (from tensorflow==2.9.1) (1.51.1)\n",
            "Requirement already satisfied: protobuf<3.20,>=3.9.2 in /usr/local/lib/python3.8/dist-packages (from tensorflow==2.9.1) (3.19.6)\n",
            "Requirement already satisfied: keras-preprocessing>=1.1.1 in /usr/local/lib/python3.8/dist-packages (from tensorflow==2.9.1) (1.1.2)\n",
            "Requirement already satisfied: tensorflow-io-gcs-filesystem>=0.23.1 in /usr/local/lib/python3.8/dist-packages (from tensorflow==2.9.1) (0.28.0)\n",
            "Requirement already satisfied: keras<2.10.0,>=2.9.0rc0 in /usr/local/lib/python3.8/dist-packages (from tensorflow==2.9.1) (2.9.0)\n",
            "Requirement already satisfied: opt-einsum>=2.3.2 in /usr/local/lib/python3.8/dist-packages (from tensorflow==2.9.1) (3.3.0)\n",
            "Requirement already satisfied: wheel<1.0,>=0.23.0 in /usr/local/lib/python3.8/dist-packages (from astunparse>=1.6.0->tensorflow==2.9.1) (0.38.4)\n",
            "Requirement already satisfied: google-auth<3,>=1.6.3 in /usr/local/lib/python3.8/dist-packages (from tensorboard<2.10,>=2.9->tensorflow==2.9.1) (2.15.0)\n",
            "Requirement already satisfied: tensorboard-plugin-wit>=1.6.0 in /usr/local/lib/python3.8/dist-packages (from tensorboard<2.10,>=2.9->tensorflow==2.9.1) (1.8.1)\n",
            "Requirement already satisfied: markdown>=2.6.8 in /usr/local/lib/python3.8/dist-packages (from tensorboard<2.10,>=2.9->tensorflow==2.9.1) (3.4.1)\n",
            "Requirement already satisfied: google-auth-oauthlib<0.5,>=0.4.1 in /usr/local/lib/python3.8/dist-packages (from tensorboard<2.10,>=2.9->tensorflow==2.9.1) (0.4.6)\n",
            "Requirement already satisfied: requests<3,>=2.21.0 in /usr/local/lib/python3.8/dist-packages (from tensorboard<2.10,>=2.9->tensorflow==2.9.1) (2.23.0)\n",
            "Requirement already satisfied: tensorboard-data-server<0.7.0,>=0.6.0 in /usr/local/lib/python3.8/dist-packages (from tensorboard<2.10,>=2.9->tensorflow==2.9.1) (0.6.1)\n",
            "Requirement already satisfied: werkzeug>=1.0.1 in /usr/local/lib/python3.8/dist-packages (from tensorboard<2.10,>=2.9->tensorflow==2.9.1) (1.0.1)\n",
            "Requirement already satisfied: cachetools<6.0,>=2.0.0 in /usr/local/lib/python3.8/dist-packages (from google-auth<3,>=1.6.3->tensorboard<2.10,>=2.9->tensorflow==2.9.1) (5.2.0)\n",
            "Requirement already satisfied: rsa<5,>=3.1.4 in /usr/local/lib/python3.8/dist-packages (from google-auth<3,>=1.6.3->tensorboard<2.10,>=2.9->tensorflow==2.9.1) (4.9)\n",
            "Requirement already satisfied: pyasn1-modules>=0.2.1 in /usr/local/lib/python3.8/dist-packages (from google-auth<3,>=1.6.3->tensorboard<2.10,>=2.9->tensorflow==2.9.1) (0.2.8)\n",
            "Requirement already satisfied: requests-oauthlib>=0.7.0 in /usr/local/lib/python3.8/dist-packages (from google-auth-oauthlib<0.5,>=0.4.1->tensorboard<2.10,>=2.9->tensorflow==2.9.1) (1.3.1)\n",
            "Requirement already satisfied: importlib-metadata>=4.4 in /usr/local/lib/python3.8/dist-packages (from markdown>=2.6.8->tensorboard<2.10,>=2.9->tensorflow==2.9.1) (5.1.0)\n",
            "Requirement already satisfied: zipp>=0.5 in /usr/local/lib/python3.8/dist-packages (from importlib-metadata>=4.4->markdown>=2.6.8->tensorboard<2.10,>=2.9->tensorflow==2.9.1) (3.11.0)\n",
            "Requirement already satisfied: pyasn1<0.5.0,>=0.4.6 in /usr/local/lib/python3.8/dist-packages (from pyasn1-modules>=0.2.1->google-auth<3,>=1.6.3->tensorboard<2.10,>=2.9->tensorflow==2.9.1) (0.4.8)\n",
            "Requirement already satisfied: certifi>=2017.4.17 in /usr/local/lib/python3.8/dist-packages (from requests<3,>=2.21.0->tensorboard<2.10,>=2.9->tensorflow==2.9.1) (2022.12.7)\n",
            "Requirement already satisfied: urllib3!=1.25.0,!=1.25.1,<1.26,>=1.21.1 in /usr/local/lib/python3.8/dist-packages (from requests<3,>=2.21.0->tensorboard<2.10,>=2.9->tensorflow==2.9.1) (1.24.3)\n",
            "Requirement already satisfied: chardet<4,>=3.0.2 in /usr/local/lib/python3.8/dist-packages (from requests<3,>=2.21.0->tensorboard<2.10,>=2.9->tensorflow==2.9.1) (3.0.4)\n",
            "Requirement already satisfied: idna<3,>=2.5 in /usr/local/lib/python3.8/dist-packages (from requests<3,>=2.21.0->tensorboard<2.10,>=2.9->tensorflow==2.9.1) (2.10)\n",
            "Requirement already satisfied: oauthlib>=3.0.0 in /usr/local/lib/python3.8/dist-packages (from requests-oauthlib>=0.7.0->google-auth-oauthlib<0.5,>=0.4.1->tensorboard<2.10,>=2.9->tensorflow==2.9.1) (3.2.2)\n",
            "Requirement already satisfied: pyparsing!=3.0.5,>=2.0.2 in /usr/local/lib/python3.8/dist-packages (from packaging->tensorflow==2.9.1) (3.0.9)\n",
            "Installing collected packages: tensorflow\n",
            "  Attempting uninstall: tensorflow\n",
            "    Found existing installation: tensorflow 2.9.2\n",
            "    Uninstalling tensorflow-2.9.2:\n",
            "      Successfully uninstalled tensorflow-2.9.2\n",
            "Successfully installed tensorflow-2.9.1\n"
          ]
        },
        {
          "output_type": "display_data",
          "data": {
            "application/vnd.colab-display-data+json": {
              "pip_warning": {
                "packages": [
                  "tensorflow"
                ]
              }
            }
          },
          "metadata": {}
        }
      ]
    },
    {
      "cell_type": "code",
      "source": [
        "df.to_excel('combine_df.xlsx')"
      ],
      "metadata": {
        "id": "tsmjI-jQUNDJ"
      },
      "execution_count": 5,
      "outputs": []
    }
  ]
}